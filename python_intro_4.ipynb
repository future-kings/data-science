{
 "cells": [
  {
   "cell_type": "markdown",
   "id": "b6e80783",
   "metadata": {},
   "source": [
    "# Python Introduction - Lesson 4"
   ]
  },
  {
   "cell_type": "markdown",
   "id": "04b72128",
   "metadata": {},
   "source": [
    "## Functions Recap"
   ]
  },
  {
   "cell_type": "markdown",
   "id": "b8d4c464",
   "metadata": {},
   "source": [
    "During the last lesson, you learned that a function is a bit of code designed to accomplish a specific job."
   ]
  },
  {
   "cell_type": "code",
   "execution_count": 1,
   "id": "5b90629a",
   "metadata": {},
   "outputs": [],
   "source": [
    "# EXAMPLE\n",
    "\n",
    "def print_friends(friend_list): # friend_list is called a parameter\n",
    "    for friend in friend_list:\n",
    "        print(friend)"
   ]
  },
  {
   "cell_type": "code",
   "execution_count": 2,
   "id": "a7b359a9",
   "metadata": {},
   "outputs": [
    {
     "name": "stdout",
     "output_type": "stream",
     "text": [
      "jessica\n",
      "mark\n",
      "susan\n",
      "chris\n",
      "tom\n"
     ]
    }
   ],
   "source": [
    "# Create the list\n",
    "friends = [\"jessica\", \"mark\", \"susan\", \"chris\", \"tom\"]\n",
    "\n",
    "# Call the function\n",
    "print_friends(friends) "
   ]
  },
  {
   "cell_type": "markdown",
   "id": "672161d8",
   "metadata": {},
   "source": [
    "**Practice** Write a function to add two numbers and return the result."
   ]
  },
  {
   "cell_type": "code",
   "execution_count": null,
   "id": "c983e4ec",
   "metadata": {},
   "outputs": [],
   "source": [
    "# TODO"
   ]
  },
  {
   "cell_type": "markdown",
   "id": "b4461b28",
   "metadata": {},
   "source": [
    "**Practice** Write a function that takes the first name, middle name, and last name as arguments and returns a single result in title case."
   ]
  },
  {
   "cell_type": "code",
   "execution_count": null,
   "id": "829f1e6f",
   "metadata": {},
   "outputs": [],
   "source": [
    "# TODO"
   ]
  },
  {
   "cell_type": "markdown",
   "id": "a3a2f832",
   "metadata": {},
   "source": [
    "## Classes"
   ]
  },
  {
   "cell_type": "markdown",
   "id": "a8930aef",
   "metadata": {},
   "source": [
    "A class is a blueprint for creating an object. An object holds data and uses functions to perform actions on that data."
   ]
  },
  {
   "cell_type": "markdown",
   "id": "3c3e68d2",
   "metadata": {},
   "source": [
    "### Defining a Class"
   ]
  },
  {
   "cell_type": "code",
   "execution_count": 3,
   "id": "222923dc",
   "metadata": {},
   "outputs": [],
   "source": [
    "# EXAMPLE\n",
    "\n",
    "class Dog: # Defines a class called Dog. By convention, capitalized names refer to classes in Python.\n",
    "    \"\"\"A simple attempt to model a dog.\"\"\"\n",
    "    \n",
    "    def __init__(self, name, age): \n",
    "        \"\"\"Initialize name and attributes\"\"\"\n",
    "        self.name = name \n",
    "        self.age = age\n",
    "        \n",
    "        # __init__() special method that Python runs automatically to create a new instance of class.\n",
    "        # The self parameter is required in the method definition and it must come first, before any other parameters.\n",
    "        # Any variable prefixed with \"self\" is available to every function in the class. \n",
    "        \n",
    "    def sit(self):\n",
    "        \"\"\"Simulate a dog sitting in response to a command\"\"\"\n",
    "        print(f\"{self.name} is now sitting.\")\n",
    "        \n",
    "    def roll_over(self):\n",
    "        \"\"\"Simulate rolling over in response to a command.\"\"\"\n",
    "        print(f\"{self.name} rolled over!\")"
   ]
  },
  {
   "cell_type": "markdown",
   "id": "78b1bf07",
   "metadata": {},
   "source": [
    "### Making an Instance of a Class"
   ]
  },
  {
   "cell_type": "code",
   "execution_count": 4,
   "id": "0d0d483b",
   "metadata": {},
   "outputs": [],
   "source": [
    "my_dog = Dog(\"Kobe\", 2)"
   ]
  },
  {
   "cell_type": "code",
   "execution_count": 5,
   "id": "0875b2d2",
   "metadata": {},
   "outputs": [
    {
     "name": "stdout",
     "output_type": "stream",
     "text": [
      "My dog's name is Kobe.\n",
      "My dog is 2 years old.\n"
     ]
    }
   ],
   "source": [
    "# Use dot notation to access the attributes of an instance.\n",
    "\n",
    "print(f\"My dog's name is {my_dog.name}.\")\n",
    "\n",
    "print(f\"My dog is {my_dog.age} years old.\")"
   ]
  },
  {
   "cell_type": "code",
   "execution_count": 6,
   "id": "ceba5bdb",
   "metadata": {},
   "outputs": [
    {
     "name": "stdout",
     "output_type": "stream",
     "text": [
      "Kobe is now sitting.\n"
     ]
    }
   ],
   "source": [
    "# Calling the sit method of the Dog class.\n",
    "\n",
    "my_dog.sit()"
   ]
  },
  {
   "cell_type": "code",
   "execution_count": 7,
   "id": "8ce4457c",
   "metadata": {},
   "outputs": [
    {
     "name": "stdout",
     "output_type": "stream",
     "text": [
      "Kobe rolled over!\n"
     ]
    }
   ],
   "source": [
    "# Calling the roll over method of the Dog class.\n",
    "\n",
    "my_dog.roll_over()"
   ]
  },
  {
   "cell_type": "markdown",
   "id": "c1601712",
   "metadata": {},
   "source": [
    "**Practice** Create a class that represents a car. Your car object must have the following information.\n",
    "\n",
    "1) Car class must accept the following parameters: make, model, year.\n",
    "2) Car class must have the following attributes: make, model, year, odometer_reading (default value of zero).\n",
    "3) Car class must have the following methods: \n",
    "- a method to get the full name of the car that returns the name of the car in title case.\n",
    "- a method to get the current odometer reading"
   ]
  },
  {
   "cell_type": "code",
   "execution_count": null,
   "id": "a4c1f9f7",
   "metadata": {},
   "outputs": [],
   "source": [
    "# TODO"
   ]
  },
  {
   "cell_type": "markdown",
   "id": "c1864aeb",
   "metadata": {},
   "source": [
    "## Importing Classes"
   ]
  },
  {
   "cell_type": "code",
   "execution_count": 8,
   "id": "3a7574e3",
   "metadata": {},
   "outputs": [],
   "source": [
    "import matplotlib.pyplot as plt"
   ]
  },
  {
   "cell_type": "code",
   "execution_count": null,
   "id": "9fa676e4",
   "metadata": {},
   "outputs": [],
   "source": [
    "plt??"
   ]
  },
  {
   "cell_type": "code",
   "execution_count": 9,
   "id": "c20c8e3f",
   "metadata": {},
   "outputs": [],
   "source": [
    "squares = [1,4,9,16,25]"
   ]
  },
  {
   "cell_type": "code",
   "execution_count": 16,
   "id": "cb319f59",
   "metadata": {},
   "outputs": [
    {
     "data": {
      "image/png": "[encoded data removed]",
      "text/plain": [
       "<Figure size 432x288 with 1 Axes>"
      ]
     },
     "metadata": {
      "needs_background": "light"
     },
     "output_type": "display_data"
    }
   ],
   "source": [
    "fig, ax = plt.subplots()\n",
    "ax.plot(squares);"
   ]
  },
  {
   "cell_type": "markdown",
   "id": "61218c50",
   "metadata": {},
   "source": [
    "## Lab Assignment"
   ]
  },
  {
   "cell_type": "markdown",
   "id": "86ea98d2",
   "metadata": {},
   "source": [
    "### Reasoning About Data"
   ]
  },
  {
   "cell_type": "markdown",
   "id": "000ae37d",
   "metadata": {},
   "source": [
    "Using the pandas library, import the college-admissions.csv file. Inspect the file and discuss the following with your partners:\n",
    "\n",
    "1) How would you classify this data?"
   ]
  },
  {
   "cell_type": "markdown",
   "id": "8c43d7da",
   "metadata": {},
   "source": [
    "2) What data types do you see represented?"
   ]
  },
  {
   "cell_type": "markdown",
   "id": "29d8bc39",
   "metadata": {},
   "source": [
    "3) After inspecting this data, make a list of ten questions that you could ask and answer about this data set."
   ]
  },
  {
   "cell_type": "code",
   "execution_count": null,
   "id": "cdfbde19",
   "metadata": {},
   "outputs": [],
   "source": [
    "import pandas as pd"
   ]
  },
  {
   "cell_type": "code",
   "execution_count": null,
   "id": "77f51666",
   "metadata": {},
   "outputs": [],
   "source": [
    "data = pd.read_csv('college-admissions.csv')"
   ]
  },
  {
   "cell_type": "code",
   "execution_count": null,
   "id": "19047c80",
   "metadata": {},
   "outputs": [],
   "source": [
    "data.head(10)"
   ]
  },
  {
   "cell_type": "code",
   "execution_count": null,
   "id": "05f3e0a0",
   "metadata": {},
   "outputs": [],
   "source": []
  }
 ],
 "metadata": {
  "kernelspec": {
   "display_name": "Python 3",
   "language": "python",
   "name": "python3"
  },
  "language_info": {
   "codemirror_mode": {
    "name": "ipython",
    "version": 3
   },
   "file_extension": ".py",
   "mimetype": "text/x-python",
   "name": "python",
   "nbconvert_exporter": "python",
   "pygments_lexer": "ipython3",
   "version": "3.8.8"
  }
 },
 "nbformat": 4,
 "nbformat_minor": 5
}
