{
 "cells": [
  {
   "cell_type": "code",
   "execution_count": null,
   "id": "8c1d27ca",
   "metadata": {},
   "outputs": [],
   "source": [
    "# import visualization libraries\n",
    "import seaborn as sns\n",
    "import matplotlib.pyplot as plt"
   ]
  },
  {
   "cell_type": "code",
   "execution_count": null,
   "id": "472d8db8",
   "metadata": {},
   "outputs": [],
   "source": [
    "# load dataset\n",
    "data = sns.load_dataset('iris')"
   ]
  },
  {
   "cell_type": "code",
   "execution_count": null,
   "id": "5074bdc9",
   "metadata": {},
   "outputs": [],
   "source": [
    "# peak at dataset\n",
    "data.head()"
   ]
  },
  {
   "cell_type": "code",
   "execution_count": null,
   "id": "a78facee",
   "metadata": {},
   "outputs": [],
   "source": [
    "# determine the number of records\n",
    "len(data)"
   ]
  },
  {
   "cell_type": "code",
   "execution_count": null,
   "id": "ff409b69",
   "metadata": {},
   "outputs": [],
   "source": [
    "# check for data cleanliness\n",
    "data.info()"
   ]
  },
  {
   "cell_type": "code",
   "execution_count": null,
   "id": "8c28d007",
   "metadata": {},
   "outputs": [],
   "source": [
    "# view summary statistics\n",
    "data.describe()"
   ]
  },
  {
   "cell_type": "markdown",
   "id": "2433288e",
   "metadata": {},
   "source": [
    "# Creating Visualizations"
   ]
  },
  {
   "cell_type": "code",
   "execution_count": null,
   "id": "0f40d17d",
   "metadata": {},
   "outputs": [],
   "source": [
    "# draw a lineplot\n",
    "sns.lineplot(x=\"sepal_length\", y=\"sepal_width\", data=data)\n",
    "plt.title('Chart Title Goes Here')\n",
    "plt.show()"
   ]
  },
  {
   "cell_type": "code",
   "execution_count": null,
   "id": "c3dd7f56",
   "metadata": {},
   "outputs": [],
   "source": [
    "# change the x limit of the plot\n",
    "sns.lineplot(x=\"sepal_length\", y=\"sepal_width\", data=data)\n",
    "plt.title('Chart Title Goes Here')\n",
    "plt.xlim(5,7.5)\n",
    "plt.show()"
   ]
  },
  {
   "cell_type": "markdown",
   "id": "2938b777",
   "metadata": {},
   "source": [
    "### Using set-style( ) to change figure aesthetic\n",
    "\n",
    "**set_style( )** method is used to change the aesthetic (look) of the plot. There are five themes available:\n",
    "- darkgrid\n",
    "- whitegrid\n",
    "- dark\n",
    "- white\n",
    "- ticks"
   ]
  },
  {
   "cell_type": "code",
   "execution_count": null,
   "id": "6635de74",
   "metadata": {},
   "outputs": [],
   "source": [
    "sns.lineplot(x=\"sepal_length\", y=\"sepal_width\", data=data)\n",
    "sns.set_style(\"dark\")\n",
    "plt.title(\"Chart Title Goes Here\")\n",
    "plt.show()"
   ]
  },
  {
   "cell_type": "markdown",
   "id": "d788d3b4",
   "metadata": {},
   "source": [
    "_________________"
   ]
  },
  {
   "cell_type": "markdown",
   "id": "69a2d607",
   "metadata": {},
   "source": [
    "**Practice.** Create a lineplot using the \"whitegrid\" pattern."
   ]
  },
  {
   "cell_type": "code",
   "execution_count": null,
   "id": "107349d5",
   "metadata": {},
   "outputs": [],
   "source": [
    "# Type Code Here"
   ]
  },
  {
   "cell_type": "markdown",
   "id": "a539f635",
   "metadata": {},
   "source": [
    "______________"
   ]
  },
  {
   "cell_type": "markdown",
   "id": "42d156c5",
   "metadata": {},
   "source": [
    "### Remove spines from visualization\n",
    "\n",
    "The visualization boundaries are called spines.\n"
   ]
  },
  {
   "cell_type": "code",
   "execution_count": null,
   "id": "f628e515",
   "metadata": {},
   "outputs": [],
   "source": [
    "sns.lineplot(x=\"sepal_length\", y=\"sepal_width\", data=data)\n",
    "sns.set_style(\"white\")\n",
    "plt.title('Chart Title Goes Here')\n",
    "\n",
    "# removing the spines\n",
    "sns.despine()\n",
    "\n",
    "plt.show()"
   ]
  },
  {
   "cell_type": "markdown",
   "id": "dd155175",
   "metadata": {},
   "source": [
    "### Change the figure size\n",
    "\n",
    "The figure size can be changed using the **figure( )** method."
   ]
  },
  {
   "cell_type": "code",
   "execution_count": null,
   "id": "1155a4d9",
   "metadata": {},
   "outputs": [],
   "source": [
    "# changing the figure size\n",
    "plt.figure(figsize = (2,4))\n",
    "\n",
    "# draw lineplot\n",
    "sns.lineplot(x=\"sepal_length\", y=\"sepal_width\", data=data)\n",
    "\n",
    "# add title\n",
    "plt.title('Chart Title Goes Here')\n",
    "\n",
    "# remove spines\n",
    "sns.despine()\n",
    "\n",
    "plt.show()"
   ]
  },
  {
   "cell_type": "markdown",
   "id": "3eb0af85",
   "metadata": {},
   "source": [
    "### Scaling the plots\n",
    "\n",
    "**set_context( )** method scales the plot. This is another means of re-sizing the charts. Here are the contexts:\n",
    "- notebook (default)\n",
    "- paper\n",
    "- talk\n",
    "- poster\n",
    "\n",
    "font_scale is an optional parameter to adjust the font-size."
   ]
  },
  {
   "cell_type": "code",
   "execution_count": null,
   "id": "c5bf3861",
   "metadata": {},
   "outputs": [],
   "source": [
    "# draw lineplot\n",
    "sns.lineplot(x=\"sepal_length\", y=\"sepal_width\", data=data)\n",
    "\n",
    "# add title\n",
    "plt.title('Chart Title Goes Here')\n",
    "\n",
    "# set scale\n",
    "sns.set_context(\"poster\")\n",
    "\n",
    "# remove spines\n",
    "sns.despine()\n",
    "\n",
    "plt.show()"
   ]
  },
  {
   "cell_type": "markdown",
   "id": "ffe28df3",
   "metadata": {},
   "source": [
    "### Relational Plots\n",
    "\n",
    "Relational plots are used for visualizing the statistical relationship between data points. Visualization allows us to see trends and patterns in the data. The process of understanding how the variables in the data relate to one another and their relationships is called Statistical Analysis. "
   ]
  },
  {
   "cell_type": "code",
   "execution_count": null,
   "id": "3562c4ea",
   "metadata": {},
   "outputs": [],
   "source": [
    "# reset notebook context\n",
    "sns.set_context(\"notebook\")\n",
    "\n",
    "# scatter plot (used for two quantitative variables)\n",
    "sns.scatterplot(x=\"sepal_length\", y=\"sepal_width\", data=data)\n",
    "plt.show()"
   ]
  },
  {
   "cell_type": "code",
   "execution_count": null,
   "id": "9f355e44",
   "metadata": {},
   "outputs": [],
   "source": [
    "# bar plot (used for one categorical and one quantitative variable)\n",
    "sns.barplot(x=\"species\", y=\"sepal_length\", data=data)\n",
    "plt.show()"
   ]
  },
  {
   "cell_type": "code",
   "execution_count": null,
   "id": "5e3db47a",
   "metadata": {},
   "outputs": [],
   "source": [
    "# count plot\n",
    "sns.countplot(x=\"species\", data=data)\n",
    "plt.show()"
   ]
  },
  {
   "cell_type": "code",
   "execution_count": null,
   "id": "5013564a",
   "metadata": {},
   "outputs": [],
   "source": [
    "#box plot\n",
    "sns.boxplot(x=\"species\", y=\"sepal_width\", data=data)\n",
    "plt.show()"
   ]
  },
  {
   "cell_type": "code",
   "execution_count": null,
   "id": "26766507",
   "metadata": {},
   "outputs": [],
   "source": [
    "# histogram\n",
    "sns.displot(data['sepal_width'])\n",
    "plt.show()"
   ]
  },
  {
   "cell_type": "code",
   "execution_count": null,
   "id": "da9fdbd9",
   "metadata": {},
   "outputs": [],
   "source": [
    "sns.histplot(data['sepal_width'])\n",
    "plt.show()"
   ]
  },
  {
   "cell_type": "code",
   "execution_count": null,
   "id": "10617936",
   "metadata": {},
   "outputs": [],
   "source": [
    "# pair plots\n",
    "sns.pairplot(data=data, hue=\"species\")\n",
    "plt.show()"
   ]
  },
  {
   "cell_type": "markdown",
   "id": "b154f5f6",
   "metadata": {},
   "source": [
    "# These are the basic plots that you will use for your project presentations!\n",
    "\n",
    "There are many more plots to learn, but they require you having a pre-requisite knowledge of probability and statistics. \n",
    "\n",
    "We will revisit those visualizations at some point in future classes."
   ]
  },
  {
   "cell_type": "markdown",
   "id": "0a1f4727",
   "metadata": {},
   "source": [
    "___________________"
   ]
  },
  {
   "cell_type": "markdown",
   "id": "f981374c",
   "metadata": {},
   "source": [
    "## Lab Assignment\n",
    "\n",
    "Choose one of the following data sets included in the Seaborn library. Use what you have learned to analyze the dataset and create visualizations from it."
   ]
  },
  {
   "cell_type": "code",
   "execution_count": null,
   "id": "7c126c91",
   "metadata": {},
   "outputs": [],
   "source": [
    "# run this cell to see the visualizations included in seaborn library\n",
    "sns.get_dataset_names()"
   ]
  },
  {
   "cell_type": "code",
   "execution_count": null,
   "id": "8821bdaa",
   "metadata": {},
   "outputs": [],
   "source": [
    "# begin typing your code here"
   ]
  },
  {
   "cell_type": "code",
   "execution_count": null,
   "id": "b04cc2ca",
   "metadata": {},
   "outputs": [],
   "source": []
  },
  {
   "cell_type": "code",
   "execution_count": null,
   "id": "4235b1c2",
   "metadata": {},
   "outputs": [],
   "source": []
  },
  {
   "cell_type": "code",
   "execution_count": null,
   "id": "b6407278",
   "metadata": {},
   "outputs": [],
   "source": []
  }
 ],
 "metadata": {
  "kernelspec": {
   "display_name": "Python 3 (ipykernel)",
   "language": "python",
   "name": "python3"
  },
  "language_info": {
   "codemirror_mode": {
    "name": "ipython",
    "version": 3
   },
   "file_extension": ".py",
   "mimetype": "text/x-python",
   "name": "python",
   "nbconvert_exporter": "python",
   "pygments_lexer": "ipython3",
   "version": "3.9.7"
  }
 },
 "nbformat": 4,
 "nbformat_minor": 5
}
