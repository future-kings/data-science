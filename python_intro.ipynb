{
 "cells": [
  {
   "cell_type": "markdown",
   "id": "a9dfd35b",
   "metadata": {},
   "source": [
    "# Python Introduction I"
   ]
  },
  {
   "cell_type": "markdown",
   "id": "2c4bee49",
   "metadata": {},
   "source": [
    "This notebook will introduce you to the basics of the python programming language. "
   ]
  },
  {
   "cell_type": "markdown",
   "id": "4f80b067",
   "metadata": {},
   "source": [
    "## Comments"
   ]
  },
  {
   "cell_type": "code",
   "execution_count": 3,
   "id": "53f9bbb1",
   "metadata": {},
   "outputs": [],
   "source": [
    "# This is a comment.\n",
    "# Comments help readers understand how your code functions.\n",
    "# Comments can also remind you of what a line of code does or work that still needs to be accomplished."
   ]
  },
  {
   "cell_type": "code",
   "execution_count": 4,
   "id": "86abe22c",
   "metadata": {},
   "outputs": [
    {
     "name": "stdout",
     "output_type": "stream",
     "text": [
      "Hello World!\n"
     ]
    }
   ],
   "source": [
    "# The print() command displays information on your screen.\n",
    "print(\"Hello World!\")"
   ]
  },
  {
   "cell_type": "markdown",
   "id": "50d71010",
   "metadata": {},
   "source": [
    "## Variables"
   ]
  },
  {
   "cell_type": "markdown",
   "id": "a32680aa",
   "metadata": {},
   "source": [
    "Python uses 'variables' to store information in the computer's memory for later use.\n",
    "\n",
    "- Variable names can contain only letters, numbers, and underscores (__this is an underscore__).\n",
    "\n",
    "- Variable names can begin with a letter or an underscore, but never a number.\n",
    "\n",
    "- Spaces are not allowed in variable names, but underscores can be used as spaces.\n",
    "\n",
    "- Do not use Python keywords or built-in function names as variable names.\n",
    "\n",
    "#### NOTE: Try to keep your variable names lower-case, short, and descriptive!"
   ]
  },
  {
   "cell_type": "code",
   "execution_count": 5,
   "id": "ce8bf820",
   "metadata": {},
   "outputs": [],
   "source": [
    "# This is how you declare a variable in Python\n",
    "message = \"Hello World!\""
   ]
  },
  {
   "cell_type": "code",
   "execution_count": 6,
   "id": "3a00d37c",
   "metadata": {},
   "outputs": [
    {
     "name": "stdout",
     "output_type": "stream",
     "text": [
      "Hello World!\n"
     ]
    }
   ],
   "source": [
    "# The print command displays information on your screen.\n",
    "print(message)"
   ]
  },
  {
   "cell_type": "code",
   "execution_count": 7,
   "id": "d42ac332",
   "metadata": {},
   "outputs": [
    {
     "ename": "NameError",
     "evalue": "name 'mesage' is not defined",
     "output_type": "error",
     "traceback": [
      "\u001b[0;31m---------------------------------------------------------------------------\u001b[0m",
      "\u001b[0;31mNameError\u001b[0m                                 Traceback (most recent call last)",
      "\u001b[0;32m<ipython-input-7-78e4bb665ae1>\u001b[0m in \u001b[0;36m<module>\u001b[0;34m\u001b[0m\n\u001b[1;32m      1\u001b[0m \u001b[0;31m# Be careful not to misspell variable names\u001b[0m\u001b[0;34m\u001b[0m\u001b[0;34m\u001b[0m\u001b[0;34m\u001b[0m\u001b[0m\n\u001b[0;32m----> 2\u001b[0;31m \u001b[0mprint\u001b[0m\u001b[0;34m(\u001b[0m\u001b[0mmesage\u001b[0m\u001b[0;34m)\u001b[0m\u001b[0;34m\u001b[0m\u001b[0;34m\u001b[0m\u001b[0m\n\u001b[0m",
      "\u001b[0;31mNameError\u001b[0m: name 'mesage' is not defined"
     ]
    }
   ],
   "source": [
    "# Be careful not to misspell variable names\n",
    "print(mesage)"
   ]
  },
  {
   "cell_type": "markdown",
   "id": "da003997",
   "metadata": {},
   "source": [
    "## Data Types\n",
    "\n",
    "Python allows you to work several different types of data.\n",
    "\n",
    "Here are the basic data types that we will work with in this class:\n",
    "- numeric: integers and floats\n",
    "- sequential: string, list, tuple\n",
    "- boolean: true and false\n",
    "- dictionary\n"
   ]
  },
  {
   "cell_type": "markdown",
   "id": "d9c7d251",
   "metadata": {},
   "source": [
    "### Strings"
   ]
  },
  {
   "cell_type": "code",
   "execution_count": 16,
   "id": "f9150bfc",
   "metadata": {},
   "outputs": [
    {
     "name": "stdout",
     "output_type": "stream",
     "text": [
      "This is a string\n",
      "This is a also a string\n",
      "I told my mother, \"I will be home after school!\"\n"
     ]
    }
   ],
   "source": [
    "# A string is a series of characters\n",
    "print(\"This is a string\") # using double quotes\n",
    "print('This is a also a string')  # also using single quotes\n",
    "\n",
    "# This flexibility allows you to use quotes and apostrophes within strings\n",
    "print('I told my mother, \"I will be home after school!\"')"
   ]
  },
  {
   "cell_type": "code",
   "execution_count": 10,
   "id": "4afeabb5",
   "metadata": {},
   "outputs": [
    {
     "name": "stdout",
     "output_type": "stream",
     "text": [
      "John Doe\n",
      "JOHN DOE\n",
      "john doe\n"
     ]
    }
   ],
   "source": [
    "# Python has built-in operations that work on strings\n",
    "# Here are examples of changing the case of a string\n",
    "name = \"john doe\"\n",
    "print(name.title()) # Title Case\n",
    "print(name.upper())\n",
    "print(name.lower())"
   ]
  },
  {
   "cell_type": "code",
   "execution_count": 14,
   "id": "0faf106a",
   "metadata": {},
   "outputs": [
    {
     "name": "stdout",
     "output_type": "stream",
     "text": [
      "john doe\n",
      "Hello, John Doe! Welcome to our class!\n"
     ]
    }
   ],
   "source": [
    "# You can also use variable names in strings\n",
    "first_name = 'john'\n",
    "last_name = \"doe\"\n",
    "full_name = f\"{first_name} {last_name}\" # This is called an f-string\n",
    "print(full_name)\n",
    "print(f\"Hello, {full_name.title()}! Welcome to our class!\")"
   ]
  },
  {
   "cell_type": "markdown",
   "id": "d20f32cf",
   "metadata": {},
   "source": [
    "### Numbers"
   ]
  },
  {
   "cell_type": "code",
   "execution_count": 20,
   "id": "da576f7f",
   "metadata": {},
   "outputs": [
    {
     "name": "stdout",
     "output_type": "stream",
     "text": [
      "<class 'int'>\n",
      "2\n",
      "0\n",
      "1\n",
      "1.0\n"
     ]
    }
   ],
   "source": [
    "# An integer is a whole number\n",
    "# You can add, subtract, multiply, and divide integers\n",
    "print(type(1))\n",
    "print(1+1)\n",
    "print(1-1)\n",
    "print(1*1)\n",
    "print(1/1) # In Python, division returns a floating point number"
   ]
  },
  {
   "cell_type": "code",
   "execution_count": 18,
   "id": "ad71e6ca",
   "metadata": {},
   "outputs": [
    {
     "name": "stdout",
     "output_type": "stream",
     "text": [
      "9\n",
      "27\n"
     ]
    }
   ],
   "source": [
    "# You can also use exponents\n",
    "print(3**2)\n",
    "print(3**3)"
   ]
  },
  {
   "cell_type": "code",
   "execution_count": 19,
   "id": "bfd10d34",
   "metadata": {},
   "outputs": [
    {
     "name": "stdout",
     "output_type": "stream",
     "text": [
      "23\n",
      "35\n"
     ]
    }
   ],
   "source": [
    "# Python also follows the order of operations (PEMDAS)\n",
    "print(3 + 4 * 5)\n",
    "print((3 + 4) * 5)"
   ]
  },
  {
   "cell_type": "code",
   "execution_count": 23,
   "id": "9c51e0dd",
   "metadata": {},
   "outputs": [
    {
     "name": "stdout",
     "output_type": "stream",
     "text": [
      "<class 'float'>\n",
      "2.0\n",
      "0.0\n",
      "1.0\n",
      "1.0\n"
     ]
    }
   ],
   "source": [
    "# Floating point numbers contain decimals\n",
    "# You can add, subtract, multiply, and divide integers\n",
    "print(type(1.0))\n",
    "print(1.0 + 1.0)\n",
    "print(1.0 - 1.0)\n",
    "print(1.0 * 1.0)\n",
    "print(1.0/1.0)"
   ]
  },
  {
   "cell_type": "code",
   "execution_count": 24,
   "id": "744d38d7",
   "metadata": {},
   "outputs": [
    {
     "name": "stdout",
     "output_type": "stream",
     "text": [
      "1000000\n"
     ]
    }
   ],
   "source": [
    "# You can use undercores to replace commas in numbers\n",
    "million = 1_000_000\n",
    "print(million) # The value will not be affected"
   ]
  },
  {
   "cell_type": "code",
   "execution_count": 25,
   "id": "4be47d2e",
   "metadata": {},
   "outputs": [
    {
     "name": "stdout",
     "output_type": "stream",
     "text": [
      "1\n",
      "2\n",
      "3\n"
     ]
    }
   ],
   "source": [
    "# You can assign values to more than one variable in a single line\n",
    "one, two, three = 1, 2, 3\n",
    "print(one)\n",
    "print(two)\n",
    "print(three)"
   ]
  },
  {
   "cell_type": "markdown",
   "id": "43c65f9c",
   "metadata": {},
   "source": [
    "### Booleans"
   ]
  },
  {
   "cell_type": "code",
   "execution_count": 26,
   "id": "fa391be2",
   "metadata": {},
   "outputs": [
    {
     "name": "stdout",
     "output_type": "stream",
     "text": [
      "True\n",
      "False\n"
     ]
    }
   ],
   "source": [
    "# A boolean value is either true or false\n",
    "is_boy = True\n",
    "is_girl = False\n",
    "print(is_boy)\n",
    "print(is_girl)"
   ]
  },
  {
   "cell_type": "markdown",
   "id": "04be203c",
   "metadata": {},
   "source": [
    "### Lists"
   ]
  },
  {
   "cell_type": "code",
   "execution_count": 27,
   "id": "ba25214f",
   "metadata": {},
   "outputs": [
    {
     "name": "stdout",
     "output_type": "stream",
     "text": [
      "['a_string', 1, 1.0, True]\n"
     ]
    }
   ],
   "source": [
    "# A list is a collection of items in a particular order.\n",
    "# You can add any data type to a list.\n",
    "# Items in your list do not need to be related.\n",
    "my_list = ['a_string', 1, 1.0, True]\n",
    "print(my_list)"
   ]
  },
  {
   "cell_type": "code",
   "execution_count": 36,
   "id": "d874bcdf",
   "metadata": {},
   "outputs": [
    {
     "name": "stdout",
     "output_type": "stream",
     "text": [
      "english\n",
      "English\n"
     ]
    }
   ],
   "source": [
    "# Lists are ordered collections\n",
    "# You access items in a list with their position (or index)\n",
    "classes = ['english', 'physics', 'history', 'art', 'calculus', 'programming']\n",
    "print(classes[0])\n",
    "print(classes[0].title())"
   ]
  },
  {
   "cell_type": "code",
   "execution_count": 37,
   "id": "e7d95cba",
   "metadata": {},
   "outputs": [
    {
     "name": "stdout",
     "output_type": "stream",
     "text": [
      "physics\n",
      "art\n",
      "programming\n"
     ]
    }
   ],
   "source": [
    "print(classes[1]) # second item in the list\n",
    "print(classes[3]) # fourth item in the list\n",
    "print(classes[-1]) # last item in the list"
   ]
  },
  {
   "cell_type": "code",
   "execution_count": 38,
   "id": "95c03e6a",
   "metadata": {},
   "outputs": [
    {
     "name": "stdout",
     "output_type": "stream",
     "text": [
      "['english', 'physics', 'history', 'theater', 'calculus', 'programming']\n"
     ]
    }
   ],
   "source": [
    "# Changing items in a list\n",
    "classes[3] = 'theater'\n",
    "print(classes)"
   ]
  },
  {
   "cell_type": "code",
   "execution_count": 39,
   "id": "a5a081e7",
   "metadata": {},
   "outputs": [
    {
     "name": "stdout",
     "output_type": "stream",
     "text": [
      "['english', 'physics', 'history', 'theater', 'calculus', 'programming', 'art']\n"
     ]
    }
   ],
   "source": [
    "# Adding items to a list\n",
    "classes.append('art') # the append() method adds items to the end of a list\n",
    "print(classes)"
   ]
  },
  {
   "cell_type": "code",
   "execution_count": 40,
   "id": "257c54b5",
   "metadata": {},
   "outputs": [
    {
     "name": "stdout",
     "output_type": "stream",
     "text": [
      "['english', 'physics', 'history', 'art', 'theater', 'calculus', 'programming', 'art']\n"
     ]
    }
   ],
   "source": [
    "# Inserting items in a list\n",
    "classes.insert(3, 'art')\n",
    "print(classes)"
   ]
  },
  {
   "cell_type": "code",
   "execution_count": 41,
   "id": "4d815d70",
   "metadata": {},
   "outputs": [
    {
     "name": "stdout",
     "output_type": "stream",
     "text": [
      "['english', 'physics', 'history', 'art', 'theater', 'calculus', 'programming']\n"
     ]
    }
   ],
   "source": [
    "# Removing an item from a list\n",
    "del classes[7]\n",
    "print(classes)"
   ]
  },
  {
   "cell_type": "code",
   "execution_count": 42,
   "id": "f36a9060",
   "metadata": {},
   "outputs": [
    {
     "name": "stdout",
     "output_type": "stream",
     "text": [
      "programming\n",
      "['english', 'physics', 'history', 'art', 'theater', 'calculus']\n",
      "I am excited to learn programming\n"
     ]
    }
   ],
   "source": [
    "# The pop() method allows you to remove the last item in a list and store it in a variable\n",
    "last_class = classes.pop()\n",
    "print(last_class)\n",
    "print(classes)\n",
    "print(f\"I am excited to learn {last_class}\")"
   ]
  },
  {
   "cell_type": "code",
   "execution_count": 43,
   "id": "b88f0937",
   "metadata": {},
   "outputs": [
    {
     "name": "stdout",
     "output_type": "stream",
     "text": [
      "I had to drop art because I had too many classes\n"
     ]
    }
   ],
   "source": [
    "# Pop any item from a list\n",
    "fourth = classes.pop(3)\n",
    "print(f\"I had to drop {fourth} because I had too many classes\")"
   ]
  },
  {
   "cell_type": "code",
   "execution_count": 44,
   "id": "e2f8c3f4",
   "metadata": {},
   "outputs": [
    {
     "name": "stdout",
     "output_type": "stream",
     "text": [
      "['english', 'physics', 'history', 'theater', 'calculus']\n",
      "['english', 'physics', 'history', 'calculus']\n"
     ]
    }
   ],
   "source": [
    "# Remove an item from the list by its name\n",
    "print(classes)\n",
    "classes.remove('theater') # the remove() method only drops the first occurence of a value from the list\n",
    "print(classes)"
   ]
  },
  {
   "cell_type": "code",
   "execution_count": 45,
   "id": "442994c2",
   "metadata": {},
   "outputs": [
    {
     "name": "stdout",
     "output_type": "stream",
     "text": [
      "['english', 'physics', 'history', 'calculus']\n",
      "['calculus', 'english', 'history', 'physics']\n"
     ]
    }
   ],
   "source": [
    "# Sort the items in a list alphabetically\n",
    "print(classes)\n",
    "classes.sort()\n",
    "print(classes)"
   ]
  },
  {
   "cell_type": "code",
   "execution_count": 46,
   "id": "c5bf32d0",
   "metadata": {},
   "outputs": [
    {
     "name": "stdout",
     "output_type": "stream",
     "text": [
      "['calculus', 'english', 'history', 'physics']\n",
      "['physics', 'history', 'english', 'calculus']\n"
     ]
    }
   ],
   "source": [
    "# Sort the items in a list in reverse alphabetical order\n",
    "print(classes)\n",
    "classes.sort(reverse = True)\n",
    "print(classes)"
   ]
  },
  {
   "cell_type": "code",
   "execution_count": 48,
   "id": "64140cee",
   "metadata": {},
   "outputs": [
    {
     "name": "stdout",
     "output_type": "stream",
     "text": [
      "Here is the original list:\n",
      "['physics', 'history', 'english', 'calculus']\n",
      "\n",
      "Here is the sorted list:\n",
      "['calculus', 'english', 'history', 'physics']\n",
      "\n",
      "Here is the original list again:\n",
      "['physics', 'history', 'english', 'calculus']\n"
     ]
    }
   ],
   "source": [
    "# The sort() method changes the order of the list permanently\n",
    "# The sorted() method changes the order of the list temporarily\n",
    "print(\"Here is the original list:\")\n",
    "print(classes)\n",
    "print()\n",
    "print(\"Here is the sorted list:\")\n",
    "print(sorted(classes))\n",
    "print()\n",
    "print(\"Here is the original list again:\")\n",
    "print(classes)"
   ]
  },
  {
   "cell_type": "code",
   "execution_count": 50,
   "id": "1d413b76",
   "metadata": {},
   "outputs": [
    {
     "name": "stdout",
     "output_type": "stream",
     "text": [
      "['grapes', 'apples', 'pears', 'bananas']\n",
      "['bananas', 'pears', 'apples', 'grapes']\n"
     ]
    }
   ],
   "source": [
    "# Reverse the order of a list\n",
    "my_list = ['grapes', 'apples', 'pears', 'bananas']\n",
    "print(my_list)\n",
    "my_list.reverse() \n",
    "print(my_list)"
   ]
  },
  {
   "cell_type": "code",
   "execution_count": 52,
   "id": "b1865139",
   "metadata": {},
   "outputs": [
    {
     "name": "stdout",
     "output_type": "stream",
     "text": [
      "4\n"
     ]
    }
   ],
   "source": [
    "# Find the length of a list\n",
    "print(len(my_list)) # Python counts the items in a list starting with one"
   ]
  },
  {
   "cell_type": "markdown",
   "id": "79e54664",
   "metadata": {},
   "source": [
    "## Lab Assignment"
   ]
  },
  {
   "cell_type": "markdown",
   "id": "eb26de8c",
   "metadata": {},
   "source": [
    "1) Assign a message to a variable, and then print that message."
   ]
  },
  {
   "cell_type": "code",
   "execution_count": null,
   "id": "58b44663",
   "metadata": {},
   "outputs": [],
   "source": []
  },
  {
   "cell_type": "markdown",
   "id": "1a2b9b7f",
   "metadata": {},
   "source": [
    "2) Use a variable to represent a person's name, and print a message to that person. Your message should be simple."
   ]
  },
  {
   "cell_type": "code",
   "execution_count": null,
   "id": "394b5f99",
   "metadata": {},
   "outputs": [],
   "source": []
  },
  {
   "cell_type": "markdown",
   "id": "1c05a263",
   "metadata": {},
   "source": [
    "3) Use a variable to represent a person's name, and then print that person's name in lowercase, uppercase, and title case."
   ]
  },
  {
   "cell_type": "code",
   "execution_count": null,
   "id": "5fbb9399",
   "metadata": {},
   "outputs": [],
   "source": []
  },
  {
   "cell_type": "markdown",
   "id": "4d86fd16",
   "metadata": {},
   "source": [
    "4) Write addition, subtraction, multiplication, and division operations that each result in the number 8. Be sure to enclose your operations in print() calls to see the results."
   ]
  },
  {
   "cell_type": "code",
   "execution_count": null,
   "id": "8145aa8b",
   "metadata": {},
   "outputs": [],
   "source": []
  },
  {
   "cell_type": "markdown",
   "id": "30e3d0b4",
   "metadata": {},
   "source": [
    "5) Store the names of five of your friends in a list called names. Print each person's name by accessing each element in the list one at a time."
   ]
  },
  {
   "cell_type": "code",
   "execution_count": null,
   "id": "9714b3cf",
   "metadata": {},
   "outputs": [],
   "source": []
  },
  {
   "cell_type": "markdown",
   "id": "046848ca",
   "metadata": {},
   "source": [
    "6) Add two more names to the end of your friends list."
   ]
  },
  {
   "cell_type": "code",
   "execution_count": null,
   "id": "c8775250",
   "metadata": {},
   "outputs": [],
   "source": []
  },
  {
   "cell_type": "markdown",
   "id": "2c7107f0",
   "metadata": {},
   "source": [
    "7) Add one name to the middle of your friends list."
   ]
  },
  {
   "cell_type": "code",
   "execution_count": null,
   "id": "a7838f20",
   "metadata": {},
   "outputs": [],
   "source": []
  },
  {
   "cell_type": "markdown",
   "id": "80b299d9",
   "metadata": {},
   "source": [
    "8) Print the name of your friend list in alphabetical order."
   ]
  },
  {
   "cell_type": "code",
   "execution_count": null,
   "id": "e517a52e",
   "metadata": {},
   "outputs": [],
   "source": []
  },
  {
   "cell_type": "markdown",
   "id": "38921665",
   "metadata": {},
   "source": [
    "9) Remove two names from your friend list."
   ]
  },
  {
   "cell_type": "code",
   "execution_count": null,
   "id": "7538d630",
   "metadata": {},
   "outputs": [],
   "source": []
  },
  {
   "cell_type": "markdown",
   "id": "62655a16",
   "metadata": {},
   "source": [
    "10) Count the number of friends in your list. Print the total on your screen."
   ]
  },
  {
   "cell_type": "code",
   "execution_count": null,
   "id": "851a6d77",
   "metadata": {},
   "outputs": [],
   "source": []
  },
  {
   "cell_type": "markdown",
   "id": "0ee5c71f",
   "metadata": {},
   "source": [
    "## Congratulations! You just finished your first Python programming assignment!"
   ]
  }
 ],
 "metadata": {
  "kernelspec": {
   "display_name": "Python 3",
   "language": "python",
   "name": "python3"
  },
  "language_info": {
   "codemirror_mode": {
    "name": "ipython",
    "version": 3
   },
   "file_extension": ".py",
   "mimetype": "text/x-python",
   "name": "python",
   "nbconvert_exporter": "python",
   "pygments_lexer": "ipython3",
   "version": "3.8.8"
  }
 },
 "nbformat": 4,
 "nbformat_minor": 5
}
