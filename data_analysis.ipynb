{
 "cells": [
  {
   "cell_type": "markdown",
   "id": "71a995bf",
   "metadata": {},
   "source": [
    "# Data Analysis"
   ]
  },
  {
   "cell_type": "markdown",
   "id": "5f8a7c13",
   "metadata": {},
   "source": [
    "In this notebook, we will learn to use the Pandas library. Pandas is an open-source library for working with data. Because the library is open-source, you can view the source code that was used to build the library."
   ]
  },
  {
   "cell_type": "code",
   "execution_count": null,
   "id": "f93ddce4",
   "metadata": {},
   "outputs": [],
   "source": [
    "# use the 'import' command to use a library within a jupyter notebook\n",
    "import pandas as pd\n",
    "import matplotlib.pyplot as plt"
   ]
  },
  {
   "cell_type": "code",
   "execution_count": null,
   "id": "43e8a2a7",
   "metadata": {},
   "outputs": [],
   "source": [
    "# Read a data set into your jupyter notebook\n",
    "data = pd.read_csv('college-admissions.csv')"
   ]
  },
  {
   "cell_type": "code",
   "execution_count": null,
   "id": "acfb714b",
   "metadata": {},
   "outputs": [],
   "source": [
    "# Here is how you access documentation in a jupyter notebook\n",
    "pd.read_csv?"
   ]
  },
  {
   "cell_type": "code",
   "execution_count": null,
   "id": "cd81ca8c",
   "metadata": {},
   "outputs": [],
   "source": [
    "# See the first \"n\" rows of data\n",
    "data.head()"
   ]
  },
  {
   "cell_type": "code",
   "execution_count": null,
   "id": "c4cc0d76",
   "metadata": {},
   "outputs": [],
   "source": [
    "data.head(10)"
   ]
  },
  {
   "cell_type": "code",
   "execution_count": null,
   "id": "eae98344",
   "metadata": {},
   "outputs": [],
   "source": [
    "# See the last \"n\" rows of data\n",
    "data.tail()"
   ]
  },
  {
   "cell_type": "markdown",
   "id": "025102d7",
   "metadata": {},
   "source": [
    "----------------------------------------------------------------------------------------"
   ]
  },
  {
   "cell_type": "markdown",
   "id": "c51e646d",
   "metadata": {},
   "source": [
    "**Practice.** How would you see the last 10 rows of data?"
   ]
  },
  {
   "cell_type": "code",
   "execution_count": null,
   "id": "8cc0a721",
   "metadata": {},
   "outputs": [],
   "source": [
    "# Type Answer Here"
   ]
  },
  {
   "cell_type": "markdown",
   "id": "61a6b94c",
   "metadata": {},
   "source": [
    "---------------------------------------------------------------"
   ]
  },
  {
   "cell_type": "code",
   "execution_count": null,
   "id": "affb59e0",
   "metadata": {},
   "outputs": [],
   "source": [
    "# See the dimensions of the data\n",
    "data.shape"
   ]
  },
  {
   "cell_type": "code",
   "execution_count": null,
   "id": "d1a237ac",
   "metadata": {},
   "outputs": [],
   "source": [
    "# See detailed information about your data\n",
    "data.info()"
   ]
  },
  {
   "cell_type": "markdown",
   "id": "459ba001",
   "metadata": {},
   "source": [
    "_______________________________"
   ]
  },
  {
   "cell_type": "markdown",
   "id": "0eaf8534",
   "metadata": {},
   "source": [
    "## Data Classifications"
   ]
  },
  {
   "cell_type": "markdown",
   "id": "7c573b85",
   "metadata": {},
   "source": [
    "Data may be classified as qualitative or quantitative.\n",
    "\n",
    "Qualitative data is categorical:\n",
    "- Gender\n",
    "- Religion\n",
    "- Sports\n",
    "- Grade level\n",
    "\n",
    "Quantitative data is numerical:\n",
    "- age\n",
    "- height\n",
    "- weight\n",
    "- income\n",
    "\n",
    "Understanding how data is classified is important because it determines what type of operations that you can perform on the data. "
   ]
  },
  {
   "cell_type": "markdown",
   "id": "267413ce",
   "metadata": {},
   "source": [
    "______________________________"
   ]
  },
  {
   "cell_type": "markdown",
   "id": "c95e9ddc",
   "metadata": {},
   "source": [
    "## College Admissions Data Set"
   ]
  },
  {
   "cell_type": "markdown",
   "id": "17604265",
   "metadata": {},
   "source": [
    "As you saw, the college admissions data consists of 400 rows and 7 columns. Each row may be viewed as a single record that represents one student. Therefore, there are 400 students in our data set.\n",
    "\n",
    "The columns may also be called \"features\"; taken together, these features describe the students in our data set. Your goal is to use these features to gather insights about the students that the data represents.\n",
    "\n",
    "**Column Names**\n",
    "- admit: takes the values (0,1) to indicate whether students where admitted to university or not.\n",
    "- gre: graduate record exam scores\n",
    "- gpa: grade point average\n",
    "- ses: socioeconomic status where 1=low, 2=medium, 3=high\n",
    "- gender_male: takes the values (0,1) to indicate whether students are male or not.\n",
    "- race: 1=hispanic, 2=asian, 3=african-american\n",
    "- rank: the prestige of the undergraduate university, where 1 has the highest prestige and 4 has the lowest."
   ]
  },
  {
   "cell_type": "markdown",
   "id": "c315a0ee",
   "metadata": {},
   "source": [
    "___________________________________________________________________"
   ]
  },
  {
   "cell_type": "code",
   "execution_count": null,
   "id": "b8005e00",
   "metadata": {},
   "outputs": [],
   "source": [
    "# See summary statistics on the data columns\n",
    "data.describe()"
   ]
  },
  {
   "cell_type": "code",
   "execution_count": null,
   "id": "c5dd39e4",
   "metadata": {},
   "outputs": [],
   "source": [
    "# Find the median\n",
    "data['gre'].median()"
   ]
  },
  {
   "cell_type": "code",
   "execution_count": null,
   "id": "1b532672",
   "metadata": {},
   "outputs": [],
   "source": [
    "# Find the standard deviation\n",
    "data['gre'].std()"
   ]
  },
  {
   "cell_type": "code",
   "execution_count": null,
   "id": "053eb9cf",
   "metadata": {},
   "outputs": [],
   "source": [
    "# Find the mode\n",
    "data['admit'].mode()"
   ]
  },
  {
   "cell_type": "code",
   "execution_count": null,
   "id": "2458ff8e",
   "metadata": {},
   "outputs": [],
   "source": [
    "# Find the unique values\n",
    "data['race'].unique()"
   ]
  },
  {
   "cell_type": "markdown",
   "id": "f4299592",
   "metadata": {},
   "source": [
    "___________________________________________________________"
   ]
  },
  {
   "cell_type": "markdown",
   "id": "3b6f3630",
   "metadata": {},
   "source": [
    "**Practice.** Find the unique values for the 'socioeconomic status' variable."
   ]
  },
  {
   "cell_type": "code",
   "execution_count": null,
   "id": "eb189bfe",
   "metadata": {},
   "outputs": [],
   "source": [
    "# Type Answer Here"
   ]
  },
  {
   "cell_type": "markdown",
   "id": "8c68b914",
   "metadata": {},
   "source": [
    "**Practice.** Find the unique values for the 'gender' variable."
   ]
  },
  {
   "cell_type": "code",
   "execution_count": null,
   "id": "0842277d",
   "metadata": {},
   "outputs": [],
   "source": [
    "# Type Answer Here"
   ]
  },
  {
   "cell_type": "markdown",
   "id": "21f0802f",
   "metadata": {},
   "source": [
    "______________________________________________"
   ]
  },
  {
   "cell_type": "code",
   "execution_count": null,
   "id": "3aa63ff1",
   "metadata": {},
   "outputs": [],
   "source": [
    "# Create a frequency table\n",
    "data['race'].value_counts()"
   ]
  },
  {
   "cell_type": "code",
   "execution_count": null,
   "id": "2053e556",
   "metadata": {},
   "outputs": [],
   "source": [
    "# Plot the frequency table as a bar chart\n",
    "data['race'].value_counts().plot(kind='bar');"
   ]
  },
  {
   "cell_type": "markdown",
   "id": "0e94ac11",
   "metadata": {},
   "source": [
    "______________________________________"
   ]
  },
  {
   "cell_type": "markdown",
   "id": "38f76662",
   "metadata": {},
   "source": [
    "**Practice.** Create a frequency table for 'admit' variable. "
   ]
  },
  {
   "cell_type": "code",
   "execution_count": null,
   "id": "f7e21b93",
   "metadata": {},
   "outputs": [],
   "source": [
    "# Type Answer Here"
   ]
  },
  {
   "cell_type": "markdown",
   "id": "8dee0205",
   "metadata": {},
   "source": [
    "**Practice.** Plot the frequency table for 'admit' variable as a bar chart. What does the chart tell you? "
   ]
  },
  {
   "cell_type": "code",
   "execution_count": null,
   "id": "fc9b5cf3",
   "metadata": {},
   "outputs": [],
   "source": [
    "# Type Answer Here"
   ]
  },
  {
   "cell_type": "markdown",
   "id": "f0229429",
   "metadata": {},
   "source": [
    "_______________________________"
   ]
  },
  {
   "cell_type": "code",
   "execution_count": null,
   "id": "5a9de6a9",
   "metadata": {},
   "outputs": [],
   "source": [
    "# Create a histogram to show the distribution of gre scores\n",
    "data['gre'].hist()"
   ]
  },
  {
   "cell_type": "code",
   "execution_count": null,
   "id": "d88939fe",
   "metadata": {},
   "outputs": [],
   "source": [
    "# What happens if I try to use a frequency table on qualitative data?\n",
    "data['gre'].value_counts()"
   ]
  },
  {
   "cell_type": "code",
   "execution_count": null,
   "id": "6c87cb38",
   "metadata": {},
   "outputs": [],
   "source": [
    "data['gre'].value_counts().plot(kind='bar')"
   ]
  },
  {
   "cell_type": "code",
   "execution_count": null,
   "id": "3019e2e8",
   "metadata": {},
   "outputs": [],
   "source": [
    "#Watch this YouTube video that describes why we use histograms for quantitative data\n",
    "from IPython.display import Audio,Image,YouTubeVideo\n",
    "YouTubeVideo(id='qBigTkBLU6g', width=600, height=300)"
   ]
  },
  {
   "cell_type": "markdown",
   "id": "b9104a7e",
   "metadata": {},
   "source": [
    "_________________________________________________"
   ]
  },
  {
   "cell_type": "code",
   "execution_count": null,
   "id": "dee8af7b",
   "metadata": {},
   "outputs": [],
   "source": [
    "# Using the groupby function\n",
    "data.groupby('race')['gpa'].mean()"
   ]
  },
  {
   "cell_type": "markdown",
   "id": "e82d5113",
   "metadata": {},
   "source": [
    "____________________________________________"
   ]
  },
  {
   "cell_type": "markdown",
   "id": "e30fa2c5",
   "metadata": {},
   "source": [
    "**Practice.** What is the average gre scores by socioeconomic status for students in the data set?"
   ]
  },
  {
   "cell_type": "code",
   "execution_count": null,
   "id": "e1587868",
   "metadata": {},
   "outputs": [],
   "source": [
    "# Type Answer Here"
   ]
  },
  {
   "cell_type": "markdown",
   "id": "22757eee",
   "metadata": {},
   "source": [
    "_____________________________________________"
   ]
  },
  {
   "cell_type": "markdown",
   "id": "8aae19d4",
   "metadata": {},
   "source": [
    "## Lab Assignment"
   ]
  },
  {
   "cell_type": "markdown",
   "id": "307553aa",
   "metadata": {},
   "source": [
    "Working in groups of 2-3 students, review the college admissions data set. Based on the features provided, write down 20 questions that you could ask and answer using this data set."
   ]
  },
  {
   "cell_type": "code",
   "execution_count": null,
   "id": "c64b09b0",
   "metadata": {},
   "outputs": [],
   "source": []
  },
  {
   "cell_type": "code",
   "execution_count": null,
   "id": "adbd41ab",
   "metadata": {},
   "outputs": [],
   "source": []
  },
  {
   "cell_type": "code",
   "execution_count": null,
   "id": "8b8e0aca",
   "metadata": {},
   "outputs": [],
   "source": []
  }
 ],
 "metadata": {
  "kernelspec": {
   "display_name": "Python 3",
   "language": "python",
   "name": "python3"
  },
  "language_info": {
   "codemirror_mode": {
    "name": "ipython",
    "version": 3
   },
   "file_extension": ".py",
   "mimetype": "text/x-python",
   "name": "python",
   "nbconvert_exporter": "python",
   "pygments_lexer": "ipython3",
   "version": "3.8.8"
  }
 },
 "nbformat": 4,
 "nbformat_minor": 5
}
