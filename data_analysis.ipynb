{
 "cells": [
  {
   "cell_type": "markdown",
   "id": "9a990cf8",
   "metadata": {},
   "source": [
    "# Data Analysis"
   ]
  },
  {
   "cell_type": "markdown",
   "id": "4a206e4a",
   "metadata": {},
   "source": [
    "In this notebook, we will learn to use the Pandas library. Pandas is an open-source library for working with data. Because the library is open-source, you can view the source code that was used to build the library."
   ]
  },
  {
   "cell_type": "code",
   "execution_count": 17,
   "id": "af017cd7",
   "metadata": {},
   "outputs": [],
   "source": [
    "# use the 'import' command to use a library within a jupyter notebook\n",
    "import pandas as pd\n",
    "import matplotlib.pyplot as plt"
   ]
  },
  {
   "cell_type": "code",
   "execution_count": 4,
   "id": "35c8d340",
   "metadata": {},
   "outputs": [],
   "source": [
    "# Read a data set into your jupyter notebook\n",
    "data = pd.read_csv('college-admissions.csv')"
   ]
  },
  {
   "cell_type": "code",
   "execution_count": 5,
   "id": "6efd88d4",
   "metadata": {},
   "outputs": [],
   "source": [
    "# Here is how you access documentation in a jupyter notebook\n",
    "pd.read_csv?"
   ]
  },
  {
   "cell_type": "code",
   "execution_count": 6,
   "id": "d0697487",
   "metadata": {},
   "outputs": [
    {
     "data": {
      "text/html": [
       "<div>\n",
       "<style scoped>\n",
       "    .dataframe tbody tr th:only-of-type {\n",
       "        vertical-align: middle;\n",
       "    }\n",
       "\n",
       "    .dataframe tbody tr th {\n",
       "        vertical-align: top;\n",
       "    }\n",
       "\n",
       "    .dataframe thead th {\n",
       "        text-align: right;\n",
       "    }\n",
       "</style>\n",
       "<table border=\"1\" class=\"dataframe\">\n",
       "  <thead>\n",
       "    <tr style=\"text-align: right;\">\n",
       "      <th></th>\n",
       "      <th>admit</th>\n",
       "      <th>gre</th>\n",
       "      <th>gpa</th>\n",
       "      <th>ses</th>\n",
       "      <th>gender_male</th>\n",
       "      <th>race</th>\n",
       "      <th>rank</th>\n",
       "    </tr>\n",
       "  </thead>\n",
       "  <tbody>\n",
       "    <tr>\n",
       "      <th>0</th>\n",
       "      <td>0</td>\n",
       "      <td>380</td>\n",
       "      <td>3.61</td>\n",
       "      <td>1</td>\n",
       "      <td>0</td>\n",
       "      <td>3</td>\n",
       "      <td>3</td>\n",
       "    </tr>\n",
       "    <tr>\n",
       "      <th>1</th>\n",
       "      <td>1</td>\n",
       "      <td>660</td>\n",
       "      <td>3.67</td>\n",
       "      <td>2</td>\n",
       "      <td>0</td>\n",
       "      <td>2</td>\n",
       "      <td>3</td>\n",
       "    </tr>\n",
       "    <tr>\n",
       "      <th>2</th>\n",
       "      <td>1</td>\n",
       "      <td>800</td>\n",
       "      <td>4.00</td>\n",
       "      <td>2</td>\n",
       "      <td>0</td>\n",
       "      <td>2</td>\n",
       "      <td>1</td>\n",
       "    </tr>\n",
       "    <tr>\n",
       "      <th>3</th>\n",
       "      <td>1</td>\n",
       "      <td>640</td>\n",
       "      <td>3.19</td>\n",
       "      <td>1</td>\n",
       "      <td>1</td>\n",
       "      <td>2</td>\n",
       "      <td>4</td>\n",
       "    </tr>\n",
       "    <tr>\n",
       "      <th>4</th>\n",
       "      <td>0</td>\n",
       "      <td>520</td>\n",
       "      <td>2.93</td>\n",
       "      <td>3</td>\n",
       "      <td>1</td>\n",
       "      <td>2</td>\n",
       "      <td>4</td>\n",
       "    </tr>\n",
       "  </tbody>\n",
       "</table>\n",
       "</div>"
      ],
      "text/plain": [
       "   admit  gre   gpa  ses  gender_male  race  rank\n",
       "0      0  380  3.61    1            0     3     3\n",
       "1      1  660  3.67    2            0     2     3\n",
       "2      1  800  4.00    2            0     2     1\n",
       "3      1  640  3.19    1            1     2     4\n",
       "4      0  520  2.93    3            1     2     4"
      ]
     },
     "execution_count": 6,
     "metadata": {},
     "output_type": "execute_result"
    }
   ],
   "source": [
    "# See the first \"n\" rows of data\n",
    "data.head()"
   ]
  },
  {
   "cell_type": "code",
   "execution_count": 7,
   "id": "08502a5f",
   "metadata": {},
   "outputs": [
    {
     "data": {
      "text/html": [
       "<div>\n",
       "<style scoped>\n",
       "    .dataframe tbody tr th:only-of-type {\n",
       "        vertical-align: middle;\n",
       "    }\n",
       "\n",
       "    .dataframe tbody tr th {\n",
       "        vertical-align: top;\n",
       "    }\n",
       "\n",
       "    .dataframe thead th {\n",
       "        text-align: right;\n",
       "    }\n",
       "</style>\n",
       "<table border=\"1\" class=\"dataframe\">\n",
       "  <thead>\n",
       "    <tr style=\"text-align: right;\">\n",
       "      <th></th>\n",
       "      <th>admit</th>\n",
       "      <th>gre</th>\n",
       "      <th>gpa</th>\n",
       "      <th>ses</th>\n",
       "      <th>gender_male</th>\n",
       "      <th>race</th>\n",
       "      <th>rank</th>\n",
       "    </tr>\n",
       "  </thead>\n",
       "  <tbody>\n",
       "    <tr>\n",
       "      <th>0</th>\n",
       "      <td>0</td>\n",
       "      <td>380</td>\n",
       "      <td>3.61</td>\n",
       "      <td>1</td>\n",
       "      <td>0</td>\n",
       "      <td>3</td>\n",
       "      <td>3</td>\n",
       "    </tr>\n",
       "    <tr>\n",
       "      <th>1</th>\n",
       "      <td>1</td>\n",
       "      <td>660</td>\n",
       "      <td>3.67</td>\n",
       "      <td>2</td>\n",
       "      <td>0</td>\n",
       "      <td>2</td>\n",
       "      <td>3</td>\n",
       "    </tr>\n",
       "    <tr>\n",
       "      <th>2</th>\n",
       "      <td>1</td>\n",
       "      <td>800</td>\n",
       "      <td>4.00</td>\n",
       "      <td>2</td>\n",
       "      <td>0</td>\n",
       "      <td>2</td>\n",
       "      <td>1</td>\n",
       "    </tr>\n",
       "    <tr>\n",
       "      <th>3</th>\n",
       "      <td>1</td>\n",
       "      <td>640</td>\n",
       "      <td>3.19</td>\n",
       "      <td>1</td>\n",
       "      <td>1</td>\n",
       "      <td>2</td>\n",
       "      <td>4</td>\n",
       "    </tr>\n",
       "    <tr>\n",
       "      <th>4</th>\n",
       "      <td>0</td>\n",
       "      <td>520</td>\n",
       "      <td>2.93</td>\n",
       "      <td>3</td>\n",
       "      <td>1</td>\n",
       "      <td>2</td>\n",
       "      <td>4</td>\n",
       "    </tr>\n",
       "    <tr>\n",
       "      <th>5</th>\n",
       "      <td>1</td>\n",
       "      <td>760</td>\n",
       "      <td>3.00</td>\n",
       "      <td>2</td>\n",
       "      <td>1</td>\n",
       "      <td>1</td>\n",
       "      <td>2</td>\n",
       "    </tr>\n",
       "    <tr>\n",
       "      <th>6</th>\n",
       "      <td>1</td>\n",
       "      <td>560</td>\n",
       "      <td>2.98</td>\n",
       "      <td>2</td>\n",
       "      <td>1</td>\n",
       "      <td>2</td>\n",
       "      <td>1</td>\n",
       "    </tr>\n",
       "    <tr>\n",
       "      <th>7</th>\n",
       "      <td>0</td>\n",
       "      <td>400</td>\n",
       "      <td>3.08</td>\n",
       "      <td>2</td>\n",
       "      <td>0</td>\n",
       "      <td>2</td>\n",
       "      <td>2</td>\n",
       "    </tr>\n",
       "    <tr>\n",
       "      <th>8</th>\n",
       "      <td>1</td>\n",
       "      <td>540</td>\n",
       "      <td>3.39</td>\n",
       "      <td>1</td>\n",
       "      <td>1</td>\n",
       "      <td>1</td>\n",
       "      <td>3</td>\n",
       "    </tr>\n",
       "    <tr>\n",
       "      <th>9</th>\n",
       "      <td>0</td>\n",
       "      <td>700</td>\n",
       "      <td>3.92</td>\n",
       "      <td>1</td>\n",
       "      <td>0</td>\n",
       "      <td>2</td>\n",
       "      <td>2</td>\n",
       "    </tr>\n",
       "  </tbody>\n",
       "</table>\n",
       "</div>"
      ],
      "text/plain": [
       "   admit  gre   gpa  ses  gender_male  race  rank\n",
       "0      0  380  3.61    1            0     3     3\n",
       "1      1  660  3.67    2            0     2     3\n",
       "2      1  800  4.00    2            0     2     1\n",
       "3      1  640  3.19    1            1     2     4\n",
       "4      0  520  2.93    3            1     2     4\n",
       "5      1  760  3.00    2            1     1     2\n",
       "6      1  560  2.98    2            1     2     1\n",
       "7      0  400  3.08    2            0     2     2\n",
       "8      1  540  3.39    1            1     1     3\n",
       "9      0  700  3.92    1            0     2     2"
      ]
     },
     "execution_count": 7,
     "metadata": {},
     "output_type": "execute_result"
    }
   ],
   "source": [
    "data.head(10)"
   ]
  },
  {
   "cell_type": "code",
   "execution_count": 8,
   "id": "ab957ded",
   "metadata": {},
   "outputs": [
    {
     "data": {
      "text/html": [
       "<div>\n",
       "<style scoped>\n",
       "    .dataframe tbody tr th:only-of-type {\n",
       "        vertical-align: middle;\n",
       "    }\n",
       "\n",
       "    .dataframe tbody tr th {\n",
       "        vertical-align: top;\n",
       "    }\n",
       "\n",
       "    .dataframe thead th {\n",
       "        text-align: right;\n",
       "    }\n",
       "</style>\n",
       "<table border=\"1\" class=\"dataframe\">\n",
       "  <thead>\n",
       "    <tr style=\"text-align: right;\">\n",
       "      <th></th>\n",
       "      <th>admit</th>\n",
       "      <th>gre</th>\n",
       "      <th>gpa</th>\n",
       "      <th>ses</th>\n",
       "      <th>gender_male</th>\n",
       "      <th>race</th>\n",
       "      <th>rank</th>\n",
       "    </tr>\n",
       "  </thead>\n",
       "  <tbody>\n",
       "    <tr>\n",
       "      <th>395</th>\n",
       "      <td>0</td>\n",
       "      <td>620</td>\n",
       "      <td>4.00</td>\n",
       "      <td>2</td>\n",
       "      <td>0</td>\n",
       "      <td>2</td>\n",
       "      <td>2</td>\n",
       "    </tr>\n",
       "    <tr>\n",
       "      <th>396</th>\n",
       "      <td>0</td>\n",
       "      <td>560</td>\n",
       "      <td>3.04</td>\n",
       "      <td>2</td>\n",
       "      <td>0</td>\n",
       "      <td>1</td>\n",
       "      <td>3</td>\n",
       "    </tr>\n",
       "    <tr>\n",
       "      <th>397</th>\n",
       "      <td>0</td>\n",
       "      <td>460</td>\n",
       "      <td>2.63</td>\n",
       "      <td>3</td>\n",
       "      <td>0</td>\n",
       "      <td>2</td>\n",
       "      <td>2</td>\n",
       "    </tr>\n",
       "    <tr>\n",
       "      <th>398</th>\n",
       "      <td>0</td>\n",
       "      <td>700</td>\n",
       "      <td>3.65</td>\n",
       "      <td>1</td>\n",
       "      <td>1</td>\n",
       "      <td>1</td>\n",
       "      <td>2</td>\n",
       "    </tr>\n",
       "    <tr>\n",
       "      <th>399</th>\n",
       "      <td>0</td>\n",
       "      <td>600</td>\n",
       "      <td>3.89</td>\n",
       "      <td>2</td>\n",
       "      <td>1</td>\n",
       "      <td>3</td>\n",
       "      <td>3</td>\n",
       "    </tr>\n",
       "  </tbody>\n",
       "</table>\n",
       "</div>"
      ],
      "text/plain": [
       "     admit  gre   gpa  ses  gender_male  race  rank\n",
       "395      0  620  4.00    2            0     2     2\n",
       "396      0  560  3.04    2            0     1     3\n",
       "397      0  460  2.63    3            0     2     2\n",
       "398      0  700  3.65    1            1     1     2\n",
       "399      0  600  3.89    2            1     3     3"
      ]
     },
     "execution_count": 8,
     "metadata": {},
     "output_type": "execute_result"
    }
   ],
   "source": [
    "# See the last \"n\" rows of data\n",
    "data.tail()"
   ]
  },
  {
   "cell_type": "markdown",
   "id": "a02021a2",
   "metadata": {},
   "source": [
    "----------------------------------------------------------------------------------------"
   ]
  },
  {
   "cell_type": "markdown",
   "id": "5fe270f0",
   "metadata": {},
   "source": [
    "**Practice.** How would you see the last 10 rows of data?"
   ]
  },
  {
   "cell_type": "code",
   "execution_count": 45,
   "id": "f170059d",
   "metadata": {},
   "outputs": [],
   "source": [
    "# Type Answer Here"
   ]
  },
  {
   "cell_type": "markdown",
   "id": "163b9d1d",
   "metadata": {},
   "source": [
    "---------------------------------------------------------------"
   ]
  },
  {
   "cell_type": "code",
   "execution_count": 11,
   "id": "1234f1e5",
   "metadata": {},
   "outputs": [
    {
     "data": {
      "text/plain": [
       "(400, 7)"
      ]
     },
     "execution_count": 11,
     "metadata": {},
     "output_type": "execute_result"
    }
   ],
   "source": [
    "# See the dimensions of the data\n",
    "data.shape"
   ]
  },
  {
   "cell_type": "code",
   "execution_count": 13,
   "id": "6fb881dd",
   "metadata": {},
   "outputs": [
    {
     "name": "stdout",
     "output_type": "stream",
     "text": [
      "<class 'pandas.core.frame.DataFrame'>\n",
      "RangeIndex: 400 entries, 0 to 399\n",
      "Data columns (total 7 columns):\n",
      " #   Column       Non-Null Count  Dtype  \n",
      "---  ------       --------------  -----  \n",
      " 0   admit        400 non-null    int64  \n",
      " 1   gre          400 non-null    int64  \n",
      " 2   gpa          400 non-null    float64\n",
      " 3   ses          400 non-null    int64  \n",
      " 4   gender_male  400 non-null    int64  \n",
      " 5   race         400 non-null    int64  \n",
      " 6   rank         400 non-null    int64  \n",
      "dtypes: float64(1), int64(6)\n",
      "memory usage: 22.0 KB\n"
     ]
    }
   ],
   "source": [
    "# See detailed information about your data\n",
    "data.info()"
   ]
  },
  {
   "cell_type": "markdown",
   "id": "b00f355c",
   "metadata": {},
   "source": [
    "_______________________________"
   ]
  },
  {
   "cell_type": "markdown",
   "id": "cda1b329",
   "metadata": {},
   "source": [
    "## Data Classifications"
   ]
  },
  {
   "cell_type": "markdown",
   "id": "05306513",
   "metadata": {},
   "source": [
    "Data may be classified as qualitative or quantitative.\n",
    "\n",
    "Qualitative data is categorical:\n",
    "- Gender\n",
    "- Religion\n",
    "- Sports\n",
    "- Grade level\n",
    "\n",
    "Quantitative data is numerical:\n",
    "- age\n",
    "- height\n",
    "- weight\n",
    "- income\n",
    "\n",
    "Understanding how data is classified is important because it determines what type of operations that you can perform on the data. "
   ]
  },
  {
   "cell_type": "markdown",
   "id": "8b9b08e0",
   "metadata": {},
   "source": [
    "______________________________"
   ]
  },
  {
   "cell_type": "markdown",
   "id": "0382eaf1",
   "metadata": {},
   "source": [
    "## College Admissions Data Set"
   ]
  },
  {
   "cell_type": "markdown",
   "id": "c5982390",
   "metadata": {},
   "source": [
    "As you saw, the college admissions data consists of 400 rows and 7 columns. Each row may be viewed as a single record that represents one student. Therefore, there are 400 students in our data set.\n",
    "\n",
    "The columns may also be called \"features\"; taken together, these features describe the students in our data set. Your goal is to use these features to gather insights about the students that the data represents.\n",
    "\n",
    "**Column Names**\n",
    "- admit: takes the values (0,1) to indicate whether students where admitted to university or not.\n",
    "- gre: graduate record exam scores\n",
    "- gpa: grade point average\n",
    "- ses: socioeconomic status where 1=low, 2=medium, 3=high\n",
    "- gender_male: takes the values (0,1) to indicate whether students are male or not.\n",
    "- race: 1=hispanic, 2=asian, 3=african-american\n",
    "- rank: the prestige of the undergraduate university, where 1 has the highest prestige and 4 has the lowest."
   ]
  },
  {
   "cell_type": "markdown",
   "id": "fd28c4fa",
   "metadata": {},
   "source": [
    "___________________________________________________________________"
   ]
  },
  {
   "cell_type": "code",
   "execution_count": 15,
   "id": "30063e4a",
   "metadata": {},
   "outputs": [
    {
     "data": {
      "text/html": [
       "<div>\n",
       "<style scoped>\n",
       "    .dataframe tbody tr th:only-of-type {\n",
       "        vertical-align: middle;\n",
       "    }\n",
       "\n",
       "    .dataframe tbody tr th {\n",
       "        vertical-align: top;\n",
       "    }\n",
       "\n",
       "    .dataframe thead th {\n",
       "        text-align: right;\n",
       "    }\n",
       "</style>\n",
       "<table border=\"1\" class=\"dataframe\">\n",
       "  <thead>\n",
       "    <tr style=\"text-align: right;\">\n",
       "      <th></th>\n",
       "      <th>admit</th>\n",
       "      <th>gre</th>\n",
       "      <th>gpa</th>\n",
       "      <th>ses</th>\n",
       "      <th>gender_male</th>\n",
       "      <th>race</th>\n",
       "      <th>rank</th>\n",
       "    </tr>\n",
       "  </thead>\n",
       "  <tbody>\n",
       "    <tr>\n",
       "      <th>count</th>\n",
       "      <td>400.000000</td>\n",
       "      <td>400.000000</td>\n",
       "      <td>400.000000</td>\n",
       "      <td>400.000000</td>\n",
       "      <td>400.000</td>\n",
       "      <td>400.000000</td>\n",
       "      <td>400.00000</td>\n",
       "    </tr>\n",
       "    <tr>\n",
       "      <th>mean</th>\n",
       "      <td>0.317500</td>\n",
       "      <td>587.700000</td>\n",
       "      <td>3.389900</td>\n",
       "      <td>1.992500</td>\n",
       "      <td>0.475</td>\n",
       "      <td>1.962500</td>\n",
       "      <td>2.48500</td>\n",
       "    </tr>\n",
       "    <tr>\n",
       "      <th>std</th>\n",
       "      <td>0.466087</td>\n",
       "      <td>115.516536</td>\n",
       "      <td>0.380567</td>\n",
       "      <td>0.808751</td>\n",
       "      <td>0.500</td>\n",
       "      <td>0.823279</td>\n",
       "      <td>0.94446</td>\n",
       "    </tr>\n",
       "    <tr>\n",
       "      <th>min</th>\n",
       "      <td>0.000000</td>\n",
       "      <td>220.000000</td>\n",
       "      <td>2.260000</td>\n",
       "      <td>1.000000</td>\n",
       "      <td>0.000</td>\n",
       "      <td>1.000000</td>\n",
       "      <td>1.00000</td>\n",
       "    </tr>\n",
       "    <tr>\n",
       "      <th>25%</th>\n",
       "      <td>0.000000</td>\n",
       "      <td>520.000000</td>\n",
       "      <td>3.130000</td>\n",
       "      <td>1.000000</td>\n",
       "      <td>0.000</td>\n",
       "      <td>1.000000</td>\n",
       "      <td>2.00000</td>\n",
       "    </tr>\n",
       "    <tr>\n",
       "      <th>50%</th>\n",
       "      <td>0.000000</td>\n",
       "      <td>580.000000</td>\n",
       "      <td>3.395000</td>\n",
       "      <td>2.000000</td>\n",
       "      <td>0.000</td>\n",
       "      <td>2.000000</td>\n",
       "      <td>2.00000</td>\n",
       "    </tr>\n",
       "    <tr>\n",
       "      <th>75%</th>\n",
       "      <td>1.000000</td>\n",
       "      <td>660.000000</td>\n",
       "      <td>3.670000</td>\n",
       "      <td>3.000000</td>\n",
       "      <td>1.000</td>\n",
       "      <td>3.000000</td>\n",
       "      <td>3.00000</td>\n",
       "    </tr>\n",
       "    <tr>\n",
       "      <th>max</th>\n",
       "      <td>1.000000</td>\n",
       "      <td>800.000000</td>\n",
       "      <td>4.000000</td>\n",
       "      <td>3.000000</td>\n",
       "      <td>1.000</td>\n",
       "      <td>3.000000</td>\n",
       "      <td>4.00000</td>\n",
       "    </tr>\n",
       "  </tbody>\n",
       "</table>\n",
       "</div>"
      ],
      "text/plain": [
       "            admit         gre         gpa         ses  gender_male  \\\n",
       "count  400.000000  400.000000  400.000000  400.000000      400.000   \n",
       "mean     0.317500  587.700000    3.389900    1.992500        0.475   \n",
       "std      0.466087  115.516536    0.380567    0.808751        0.500   \n",
       "min      0.000000  220.000000    2.260000    1.000000        0.000   \n",
       "25%      0.000000  520.000000    3.130000    1.000000        0.000   \n",
       "50%      0.000000  580.000000    3.395000    2.000000        0.000   \n",
       "75%      1.000000  660.000000    3.670000    3.000000        1.000   \n",
       "max      1.000000  800.000000    4.000000    3.000000        1.000   \n",
       "\n",
       "             race       rank  \n",
       "count  400.000000  400.00000  \n",
       "mean     1.962500    2.48500  \n",
       "std      0.823279    0.94446  \n",
       "min      1.000000    1.00000  \n",
       "25%      1.000000    2.00000  \n",
       "50%      2.000000    2.00000  \n",
       "75%      3.000000    3.00000  \n",
       "max      3.000000    4.00000  "
      ]
     },
     "execution_count": 15,
     "metadata": {},
     "output_type": "execute_result"
    }
   ],
   "source": [
    "# See summary statistics on the data columns\n",
    "data.describe()"
   ]
  },
  {
   "cell_type": "code",
   "execution_count": 18,
   "id": "64070309",
   "metadata": {},
   "outputs": [
    {
     "data": {
      "text/plain": [
       "580.0"
      ]
     },
     "execution_count": 18,
     "metadata": {},
     "output_type": "execute_result"
    }
   ],
   "source": [
    "# Find the median\n",
    "data['gre'].median()"
   ]
  },
  {
   "cell_type": "code",
   "execution_count": 24,
   "id": "a5eb7830",
   "metadata": {},
   "outputs": [
    {
     "data": {
      "text/plain": [
       "115.51653637223819"
      ]
     },
     "execution_count": 24,
     "metadata": {},
     "output_type": "execute_result"
    }
   ],
   "source": [
    "# Find the standard deviation\n",
    "data['gre'].std()"
   ]
  },
  {
   "cell_type": "code",
   "execution_count": 25,
   "id": "012e2856",
   "metadata": {},
   "outputs": [
    {
     "data": {
      "text/plain": [
       "0    0\n",
       "dtype: int64"
      ]
     },
     "execution_count": 25,
     "metadata": {},
     "output_type": "execute_result"
    }
   ],
   "source": [
    "# Find the mode\n",
    "data['admit'].mode()"
   ]
  },
  {
   "cell_type": "code",
   "execution_count": 46,
   "id": "dabe08a3",
   "metadata": {},
   "outputs": [
    {
     "data": {
      "text/plain": [
       "array([3, 2, 1])"
      ]
     },
     "execution_count": 46,
     "metadata": {},
     "output_type": "execute_result"
    }
   ],
   "source": [
    "# Find the unique values\n",
    "data['race'].unique()"
   ]
  },
  {
   "cell_type": "markdown",
   "id": "69444cca",
   "metadata": {},
   "source": [
    "___________________________________________________________"
   ]
  },
  {
   "cell_type": "markdown",
   "id": "538f200b",
   "metadata": {},
   "source": [
    "**Practice.** Find the unique values for the 'socioeconomic status' variable."
   ]
  },
  {
   "cell_type": "code",
   "execution_count": null,
   "id": "9b30f891",
   "metadata": {},
   "outputs": [],
   "source": [
    "# Type Answer Here"
   ]
  },
  {
   "cell_type": "markdown",
   "id": "fd54cc27",
   "metadata": {},
   "source": [
    "**Practice.** Find the unique values for the 'gender' variable."
   ]
  },
  {
   "cell_type": "code",
   "execution_count": null,
   "id": "74f54768",
   "metadata": {},
   "outputs": [],
   "source": [
    "# Type Answer Here"
   ]
  },
  {
   "cell_type": "markdown",
   "id": "a783da58",
   "metadata": {},
   "source": [
    "______________________________________________"
   ]
  },
  {
   "cell_type": "code",
   "execution_count": 36,
   "id": "1b471ca8",
   "metadata": {},
   "outputs": [
    {
     "data": {
      "text/plain": [
       "1    143\n",
       "2    129\n",
       "3    128\n",
       "Name: race, dtype: int64"
      ]
     },
     "execution_count": 36,
     "metadata": {},
     "output_type": "execute_result"
    }
   ],
   "source": [
    "# Create a frequency table\n",
    "data['race'].value_counts()"
   ]
  },
  {
   "cell_type": "code",
   "execution_count": 48,
   "id": "b651a771",
   "metadata": {},
   "outputs": [
    {
     "data": {
      "image/png": "[encoded data removed]",
      "text/plain": [
       "<Figure size 432x288 with 1 Axes>"
      ]
     },
     "metadata": {
      "needs_background": "light"
     },
     "output_type": "display_data"
    }
   ],
   "source": [
    "# Plot the frequency table as a bar chart\n",
    "data['race'].value_counts().plot(kind='bar');"
   ]
  },
  {
   "cell_type": "markdown",
   "id": "53e8293d",
   "metadata": {},
   "source": [
    "______________________________________"
   ]
  },
  {
   "cell_type": "markdown",
   "id": "371e7118",
   "metadata": {},
   "source": [
    "**Practice.** Create a frequency table for 'admit' variable. "
   ]
  },
  {
   "cell_type": "code",
   "execution_count": 44,
   "id": "e07db49c",
   "metadata": {},
   "outputs": [],
   "source": [
    "# Type Answer Here"
   ]
  },
  {
   "cell_type": "markdown",
   "id": "f33ed11f",
   "metadata": {},
   "source": [
    "**Practice.** Plot the frequency table for 'admit' variable as a bar chart. What does the chart tell you? "
   ]
  },
  {
   "cell_type": "code",
   "execution_count": null,
   "id": "cb85f450",
   "metadata": {},
   "outputs": [],
   "source": [
    "# Type Answer Here"
   ]
  },
  {
   "cell_type": "markdown",
   "id": "136f6b53",
   "metadata": {},
   "source": [
    "_______________________________"
   ]
  },
  {
   "cell_type": "code",
   "execution_count": 47,
   "id": "975fe03f",
   "metadata": {},
   "outputs": [
    {
     "data": {
      "text/plain": [
       "<AxesSubplot:>"
      ]
     },
     "execution_count": 47,
     "metadata": {},
     "output_type": "execute_result"
    },
    {
     "data": {
      "image/png": "[encoded data removed]",
      "text/plain": [
       "<Figure size 432x288 with 1 Axes>"
      ]
     },
     "metadata": {
      "needs_background": "light"
     },
     "output_type": "display_data"
    }
   ],
   "source": [
    "# Create a histogram to show the distribution of gre scores\n",
    "data['gre'].hist()"
   ]
  },
  {
   "cell_type": "code",
   "execution_count": 49,
   "id": "af83d0cf",
   "metadata": {},
   "outputs": [
    {
     "data": {
      "text/plain": [
       "620    30\n",
       "580    29\n",
       "540    27\n",
       "800    25\n",
       "520    24\n",
       "560    24\n",
       "660    24\n",
       "600    23\n",
       "700    22\n",
       "500    21\n",
       "640    21\n",
       "680    20\n",
       "480    16\n",
       "460    14\n",
       "720    11\n",
       "740    11\n",
       "400    11\n",
       "440    10\n",
       "380     8\n",
       "420     7\n",
       "780     5\n",
       "760     5\n",
       "340     4\n",
       "360     4\n",
       "300     3\n",
       "220     1\n",
       "Name: gre, dtype: int64"
      ]
     },
     "execution_count": 49,
     "metadata": {},
     "output_type": "execute_result"
    }
   ],
   "source": [
    "# What happens if I try to use a frequency table on qualitative data?\n",
    "data['gre'].value_counts()"
   ]
  },
  {
   "cell_type": "code",
   "execution_count": 50,
   "id": "81f23d49",
   "metadata": {},
   "outputs": [
    {
     "data": {
      "text/plain": [
       "<AxesSubplot:>"
      ]
     },
     "execution_count": 50,
     "metadata": {},
     "output_type": "execute_result"
    },
    {
     "data": {
      "image/png": "[encoded data removed]",
      "text/plain": [
       "<Figure size 432x288 with 1 Axes>"
      ]
     },
     "metadata": {
      "needs_background": "light"
     },
     "output_type": "display_data"
    }
   ],
   "source": [
    "data['gre'].value_counts().plot(kind='bar')"
   ]
  },
  {
   "cell_type": "code",
   "execution_count": 51,
   "id": "eaeedba3",
   "metadata": {},
   "outputs": [
    {
     "data": {
      "image/jpeg": "[encoded data removed]",
      "text/html": [
       "\n",
       "        <iframe\n",
       "            width=\"600\"\n",
       "            height=\"300\"\n",
       "            src=\"https://www.youtube.com/embed/qBigTkBLU6g\"\n",
       "            frameborder=\"0\"\n",
       "            allowfullscreen\n",
       "        ></iframe>\n",
       "        "
      ],
      "text/plain": [
       "<IPython.lib.display.YouTubeVideo at 0x7f8bd850c700>"
      ]
     },
     "execution_count": 51,
     "metadata": {},
     "output_type": "execute_result"
    }
   ],
   "source": [
    "#Watch this YouTube video that describes why we use histograms for quantitative data\n",
    "from IPython.display import Audio,Image,YouTubeVideo\n",
    "YouTubeVideo(id='qBigTkBLU6g', width=600, height=300)"
   ]
  },
  {
   "cell_type": "markdown",
   "id": "222d01b3",
   "metadata": {},
   "source": [
    "_________________________________________________"
   ]
  },
  {
   "cell_type": "code",
   "execution_count": 54,
   "id": "e3632613",
   "metadata": {},
   "outputs": [
    {
     "data": {
      "text/plain": [
       "race\n",
       "1    3.378601\n",
       "2    3.358450\n",
       "3    3.434219\n",
       "Name: gpa, dtype: float64"
      ]
     },
     "execution_count": 54,
     "metadata": {},
     "output_type": "execute_result"
    }
   ],
   "source": [
    "# Using the groupby function\n",
    "data.groupby('race')['gpa'].mean()"
   ]
  },
  {
   "cell_type": "markdown",
   "id": "84804284",
   "metadata": {},
   "source": [
    "____________________________________________"
   ]
  },
  {
   "cell_type": "markdown",
   "id": "71055715",
   "metadata": {},
   "source": [
    "**Practice.** What is the average gre scores by socioeconomic status for students in the data set?"
   ]
  },
  {
   "cell_type": "code",
   "execution_count": null,
   "id": "364ea001",
   "metadata": {},
   "outputs": [],
   "source": [
    "# Type Answer Here"
   ]
  },
  {
   "cell_type": "markdown",
   "id": "f53c0288",
   "metadata": {},
   "source": [
    "_____________________________________________"
   ]
  },
  {
   "cell_type": "markdown",
   "id": "63d9a349",
   "metadata": {},
   "source": [
    "## Lab Assignment"
   ]
  },
  {
   "cell_type": "markdown",
   "id": "8d4d35cf",
   "metadata": {},
   "source": [
    "Working in groups of 2-3 students, review the college admissions data set. Based on the features provided, write down 20 questions that you could ask and answer using this data set."
   ]
  },
  {
   "cell_type": "code",
   "execution_count": null,
   "id": "f695f7f3",
   "metadata": {},
   "outputs": [],
   "source": []
  },
  {
   "cell_type": "code",
   "execution_count": null,
   "id": "88995925",
   "metadata": {},
   "outputs": [],
   "source": []
  },
  {
   "cell_type": "code",
   "execution_count": null,
   "id": "3396267a",
   "metadata": {},
   "outputs": [],
   "source": []
  }
 ],
 "metadata": {
  "kernelspec": {
   "display_name": "Python 3",
   "language": "python",
   "name": "python3"
  },
  "language_info": {
   "codemirror_mode": {
    "name": "ipython",
    "version": 3
   },
   "file_extension": ".py",
   "mimetype": "text/x-python",
   "name": "python",
   "nbconvert_exporter": "python",
   "pygments_lexer": "ipython3",
   "version": "3.8.8"
  }
 },
 "nbformat": 4,
 "nbformat_minor": 5
}
