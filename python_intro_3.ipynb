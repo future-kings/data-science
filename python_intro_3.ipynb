{
 "cells": [
  {
   "cell_type": "markdown",
   "id": "31b324f7",
   "metadata": {},
   "source": [
    "# Python Introduction - Lesson 3"
   ]
  },
  {
   "cell_type": "markdown",
   "id": "d5b28331",
   "metadata": {},
   "source": [
    "In this lesson, we will review the information that we have learned in the previous sessions.\n",
    "\n",
    "First, you learned that a **variable** is used to store information for later use in your program. For example, you can store your first name in a variable called first_name. Later, you can print the variable to the screen, without having to re-type your name."
   ]
  },
  {
   "cell_type": "code",
   "execution_count": null,
   "id": "e871ecf7",
   "metadata": {},
   "outputs": [],
   "source": [
    "# Example of using a variable\n",
    "\n",
    "first_name = \"Jeremy\"\n",
    "print(first_name)"
   ]
  },
  {
   "cell_type": "markdown",
   "id": "7adc36f6",
   "metadata": {},
   "source": [
    "Save your first name, middle initial, and last name as variables. Use the following variable names:\n",
    "- first_name\n",
    "- middle_initial\n",
    "- last_name"
   ]
  },
  {
   "cell_type": "code",
   "execution_count": null,
   "id": "c9426f91",
   "metadata": {},
   "outputs": [],
   "source": [
    "# TODO"
   ]
  },
  {
   "cell_type": "markdown",
   "id": "cbb89997",
   "metadata": {},
   "source": [
    "Now, print your variables for first name, middle initial, and last name to the screen."
   ]
  },
  {
   "cell_type": "code",
   "execution_count": null,
   "id": "287b7b69",
   "metadata": {},
   "outputs": [],
   "source": [
    "# TODO"
   ]
  },
  {
   "cell_type": "markdown",
   "id": "f2f57e11",
   "metadata": {},
   "source": [
    "## Data Types"
   ]
  },
  {
   "cell_type": "markdown",
   "id": "f180ba01",
   "metadata": {},
   "source": [
    "Also, you have learned about the basic data types:\n",
    "- Integer (counting numbers)\n",
    "- Float (decimal numbers)\n",
    "- String (words)\n",
    "- Boolean (true or false)"
   ]
  },
  {
   "cell_type": "code",
   "execution_count": null,
   "id": "8b603487",
   "metadata": {},
   "outputs": [],
   "source": [
    "# Example\n",
    "\n",
    "my_int = 10\n",
    "my_float = 3.0\n",
    "my_string = \"hello\"\n",
    "my_bool = True"
   ]
  },
  {
   "cell_type": "markdown",
   "id": "4318d62c",
   "metadata": {},
   "source": [
    "You can use the \"type\" command to check the data type of your variable."
   ]
  },
  {
   "cell_type": "code",
   "execution_count": null,
   "id": "781f0d9c",
   "metadata": {},
   "outputs": [],
   "source": [
    "# Example\n",
    "\n",
    "print(type(my_int))"
   ]
  },
  {
   "cell_type": "markdown",
   "id": "eb60aa2e",
   "metadata": {},
   "source": [
    "Come up with your own variable names and save each of the four data types. "
   ]
  },
  {
   "cell_type": "code",
   "execution_count": null,
   "id": "debc10e9",
   "metadata": {},
   "outputs": [],
   "source": [
    "# TODO"
   ]
  },
  {
   "cell_type": "markdown",
   "id": "d64e305d",
   "metadata": {},
   "source": [
    "Now, print the type of each one of your variables. Your print statement should return each data type to the screen."
   ]
  },
  {
   "cell_type": "code",
   "execution_count": null,
   "id": "8e657f0f",
   "metadata": {},
   "outputs": [],
   "source": [
    "# TODO"
   ]
  },
  {
   "cell_type": "markdown",
   "id": "da9639dd",
   "metadata": {},
   "source": [
    "## Data Structure"
   ]
  },
  {
   "cell_type": "markdown",
   "id": "0d273327",
   "metadata": {},
   "source": [
    "You have also learned about the \"List\" which is a basic data structure. \n",
    "\n",
    "The List is a container for data. \n",
    "\n",
    "In Python, a list can store any of the data types, and even mix data types."
   ]
  },
  {
   "cell_type": "code",
   "execution_count": null,
   "id": "be30bd99",
   "metadata": {},
   "outputs": [],
   "source": [
    "# Example\n",
    "\n",
    "my_list = [first_name, my_int, my_float, my_string, my_bool]\n",
    "print(my_list)"
   ]
  },
  {
   "cell_type": "markdown",
   "id": "2de6875d",
   "metadata": {},
   "source": [
    "Create your own list that includes the first name of five of your friends. First, save each friends name as a variable.\n",
    "\n",
    "For example:\n",
    "\n",
    "friend_one = \"jesse\"\n",
    "friend_two = \"jennifer\"\n",
    "\n",
    "Then add the friend variables to your friends list, and print the list."
   ]
  },
  {
   "cell_type": "code",
   "execution_count": null,
   "id": "3a6ca6ee",
   "metadata": {},
   "outputs": [],
   "source": [
    "# TODO"
   ]
  },
  {
   "cell_type": "markdown",
   "id": "d5ae35df",
   "metadata": {},
   "source": [
    "## For Loop"
   ]
  },
  {
   "cell_type": "markdown",
   "id": "770da565",
   "metadata": {},
   "source": [
    "You also learned how to work with a list using a \"for loop\"."
   ]
  },
  {
   "cell_type": "code",
   "execution_count": null,
   "id": "0a81b65d",
   "metadata": {},
   "outputs": [],
   "source": [
    "# Example\n",
    "\n",
    "for item in my_list:\n",
    "    print(item)"
   ]
  },
  {
   "cell_type": "markdown",
   "id": "e0685816",
   "metadata": {},
   "source": [
    "Use a foor loop to print out the names in your friend list."
   ]
  },
  {
   "cell_type": "code",
   "execution_count": null,
   "id": "ffa6fcdf",
   "metadata": {},
   "outputs": [],
   "source": [
    "# TODO"
   ]
  },
  {
   "cell_type": "markdown",
   "id": "757143f2",
   "metadata": {},
   "source": [
    "## If-Else Statements"
   ]
  },
  {
   "cell_type": "markdown",
   "id": "cc7ada07",
   "metadata": {},
   "source": [
    "If-Else statements allow you to check if a condition exists before you take an action."
   ]
  },
  {
   "cell_type": "code",
   "execution_count": null,
   "id": "99b65c90",
   "metadata": {},
   "outputs": [],
   "source": [
    "# Example\n",
    "\n",
    "cars = [\"bmw\", \"lexus\", \"audi\", \"toyata\", \"honda\"]\n",
    "\n",
    "for car in cars:\n",
    "    if car == \"ford\":\n",
    "        print(car)\n",
    "    else:\n",
    "        print(\"nope\")"
   ]
  },
  {
   "cell_type": "markdown",
   "id": "c1941b52",
   "metadata": {},
   "source": [
    "For practice, create a list of your favorite places to eat. "
   ]
  },
  {
   "cell_type": "code",
   "execution_count": null,
   "id": "ca9f053f",
   "metadata": {},
   "outputs": [],
   "source": [
    "# TODO"
   ]
  },
  {
   "cell_type": "markdown",
   "id": "1d5577ee",
   "metadata": {},
   "source": [
    "If \"Burger King\" is in the list of your favorite places to eat, print \"yes\". Otherwise, print \"no\". "
   ]
  },
  {
   "cell_type": "code",
   "execution_count": null,
   "id": "66f2899b",
   "metadata": {},
   "outputs": [],
   "source": [
    "# TODO"
   ]
  },
  {
   "cell_type": "markdown",
   "id": "ba8a0ca6",
   "metadata": {},
   "source": [
    "## Using multiple lists"
   ]
  },
  {
   "cell_type": "markdown",
   "id": "17f794b8",
   "metadata": {},
   "source": [
    "A \"nested for loop\" allows you to work with multiple lists."
   ]
  },
  {
   "cell_type": "code",
   "execution_count": null,
   "id": "ed27e39e",
   "metadata": {},
   "outputs": [],
   "source": [
    "# Example\n",
    "cars = [\"bmw\", \"lexus\", \"audi\", \"toyata\", \"honda\"]\n",
    "trucks = [\"ford\", \"dodge\", \"chevrolet\", \"honda\",\"gmc\"]\n",
    "\n",
    "for car in cars:\n",
    "    for truck in trucks:\n",
    "        if car == truck:\n",
    "            print(\"yes\")\n",
    "        else:\n",
    "            print(\"nope\")\n"
   ]
  },
  {
   "cell_type": "markdown",
   "id": "24935fbe",
   "metadata": {},
   "source": [
    "Make a copy of the friend list for the person sitting beside you. Using a nested for loop to check if you and your neighbor have friends with the same first name."
   ]
  },
  {
   "cell_type": "code",
   "execution_count": null,
   "id": "b73b1143",
   "metadata": {},
   "outputs": [],
   "source": [
    "# TODO"
   ]
  },
  {
   "cell_type": "markdown",
   "id": "cbd1a02f",
   "metadata": {},
   "source": [
    "## Functions"
   ]
  },
  {
   "cell_type": "markdown",
   "id": "34ae0dde",
   "metadata": {},
   "source": [
    "A function is a piece of code that is designed to do one specific job."
   ]
  },
  {
   "cell_type": "code",
   "execution_count": null,
   "id": "6d344d5d",
   "metadata": {},
   "outputs": [],
   "source": [
    "# Example One\n",
    "\n",
    "# Create the function\n",
    "def print_friends(friend_list): # friend_list is called a parameter\n",
    "    for friend in friend_list:\n",
    "        print(friend)\n",
    "\n",
    "# Create the list\n",
    "friends = [\"jessica\", \"mark\", \"susan\", \"chris\", \"tom\"]\n",
    "\n",
    "# Call the function\n",
    "print_friends(friends) "
   ]
  },
  {
   "cell_type": "code",
   "execution_count": null,
   "id": "951cdcc2",
   "metadata": {},
   "outputs": [],
   "source": [
    "# Example Two\n",
    "\n",
    "def add_numbers(first_num, second_num):\n",
    "    return first_num + second_num # 'return' is used to store the result in a variable\n",
    "\n",
    "answer = add_numbers(2155, 3786)\n",
    "print(answer)"
   ]
  },
  {
   "cell_type": "markdown",
   "id": "2973549e",
   "metadata": {},
   "source": [
    "Create a function to print the names of the items in one of our lists."
   ]
  },
  {
   "cell_type": "code",
   "execution_count": null,
   "id": "81a31751",
   "metadata": {},
   "outputs": [],
   "source": [
    "# TODO"
   ]
  },
  {
   "cell_type": "markdown",
   "id": "c3fc135c",
   "metadata": {},
   "source": [
    "Create a function to subtract two numbers."
   ]
  },
  {
   "cell_type": "code",
   "execution_count": null,
   "id": "bd6f2f2f",
   "metadata": {},
   "outputs": [],
   "source": [
    "# TODO"
   ]
  },
  {
   "cell_type": "markdown",
   "id": "6668a93e",
   "metadata": {},
   "source": [
    "# Lab Assignment"
   ]
  },
  {
   "cell_type": "markdown",
   "id": "4ecb1811",
   "metadata": {},
   "source": [
    "1) Define a function that takes two lists and returns true if both lists share an item and false otherwise."
   ]
  },
  {
   "cell_type": "code",
   "execution_count": null,
   "id": "46faf558",
   "metadata": {},
   "outputs": [],
   "source": [
    "# TODO"
   ]
  },
  {
   "cell_type": "markdown",
   "id": "88989edf",
   "metadata": {},
   "source": [
    "2) Define a function that takes the first and last name as parameters, and returns the first and last name formatted in title case as a single word."
   ]
  },
  {
   "cell_type": "code",
   "execution_count": null,
   "id": "c0f4190b",
   "metadata": {},
   "outputs": [],
   "source": [
    "# TODO"
   ]
  },
  {
   "cell_type": "markdown",
   "id": "8d493011",
   "metadata": {},
   "source": [
    "3) Define a function that squares two numbers and returns their sum."
   ]
  },
  {
   "cell_type": "code",
   "execution_count": null,
   "id": "9bd98eb3",
   "metadata": {},
   "outputs": [],
   "source": [
    "# TODO"
   ]
  }
 ],
 "metadata": {
  "kernelspec": {
   "display_name": "Python 3",
   "language": "python",
   "name": "python3"
  },
  "language_info": {
   "codemirror_mode": {
    "name": "ipython",
    "version": 3
   },
   "file_extension": ".py",
   "mimetype": "text/x-python",
   "name": "python",
   "nbconvert_exporter": "python",
   "pygments_lexer": "ipython3",
   "version": "3.8.8"
  }
 },
 "nbformat": 4,
 "nbformat_minor": 5
}
