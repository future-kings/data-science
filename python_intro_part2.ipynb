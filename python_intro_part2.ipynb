{
 "cells": [
  {
   "cell_type": "markdown",
   "id": "8adc09ef",
   "metadata": {},
   "source": [
    "# Python Introduction II"
   ]
  },
  {
   "cell_type": "markdown",
   "id": "f1a68214",
   "metadata": {},
   "source": [
    "This notebook will introduce you to the basics of the python programming language. "
   ]
  },
  {
   "cell_type": "markdown",
   "id": "a7eba9fa",
   "metadata": {},
   "source": [
    "## Data Structures"
   ]
  },
  {
   "cell_type": "markdown",
   "id": "dcc909b6",
   "metadata": {},
   "source": [
    "### Lists"
   ]
  },
  {
   "cell_type": "code",
   "execution_count": 1,
   "id": "294b476c",
   "metadata": {},
   "outputs": [
    {
     "name": "stdout",
     "output_type": "stream",
     "text": [
      "['a_string', 1, 1.0, True]\n"
     ]
    }
   ],
   "source": [
    "# A list is a collection of items in a particular order.\n",
    "# You can add any data type to a list.\n",
    "# Items in your list do not need to be related.\n",
    "my_list = ['a_string', 1, 1.0, True]\n",
    "print(my_list)"
   ]
  },
  {
   "cell_type": "code",
   "execution_count": 2,
   "id": "b2ba4656",
   "metadata": {},
   "outputs": [
    {
     "name": "stdout",
     "output_type": "stream",
     "text": [
      "english\n",
      "English\n"
     ]
    }
   ],
   "source": [
    "# Lists are ordered collections\n",
    "# You access items in a list with their position (or index)\n",
    "classes = ['english', 'physics', 'history', 'art', 'calculus', 'programming']\n",
    "print(classes[0])\n",
    "print(classes[0].title())"
   ]
  },
  {
   "cell_type": "code",
   "execution_count": 3,
   "id": "5f3f1cd7",
   "metadata": {},
   "outputs": [
    {
     "name": "stdout",
     "output_type": "stream",
     "text": [
      "physics\n",
      "art\n",
      "programming\n"
     ]
    }
   ],
   "source": [
    "print(classes[1]) # second item in the list\n",
    "print(classes[3]) # fourth item in the list\n",
    "print(classes[-1]) # last item in the list"
   ]
  },
  {
   "cell_type": "code",
   "execution_count": 4,
   "id": "5a2b5d69",
   "metadata": {},
   "outputs": [
    {
     "name": "stdout",
     "output_type": "stream",
     "text": [
      "['english', 'physics', 'history', 'theater', 'calculus', 'programming']\n"
     ]
    }
   ],
   "source": [
    "# Changing items in a list\n",
    "classes[3] = 'theater'\n",
    "print(classes)"
   ]
  },
  {
   "cell_type": "code",
   "execution_count": 5,
   "id": "35546c3f",
   "metadata": {},
   "outputs": [
    {
     "name": "stdout",
     "output_type": "stream",
     "text": [
      "['english', 'physics', 'history', 'theater', 'calculus', 'programming', 'art']\n"
     ]
    }
   ],
   "source": [
    "# Adding items to a list\n",
    "classes.append('art') # the append() method adds items to the end of a list\n",
    "print(classes)"
   ]
  },
  {
   "cell_type": "code",
   "execution_count": 6,
   "id": "c6216058",
   "metadata": {},
   "outputs": [
    {
     "name": "stdout",
     "output_type": "stream",
     "text": [
      "['english', 'physics', 'history', 'art', 'theater', 'calculus', 'programming', 'art']\n"
     ]
    }
   ],
   "source": [
    "# Inserting items in a list\n",
    "classes.insert(3, 'art')\n",
    "print(classes)"
   ]
  },
  {
   "cell_type": "code",
   "execution_count": 7,
   "id": "4264bb0c",
   "metadata": {},
   "outputs": [
    {
     "name": "stdout",
     "output_type": "stream",
     "text": [
      "['english', 'physics', 'history', 'art', 'theater', 'calculus', 'programming']\n"
     ]
    }
   ],
   "source": [
    "# Removing an item from a list\n",
    "del classes[7]\n",
    "print(classes)"
   ]
  },
  {
   "cell_type": "code",
   "execution_count": 8,
   "id": "e625b770",
   "metadata": {},
   "outputs": [
    {
     "name": "stdout",
     "output_type": "stream",
     "text": [
      "programming\n",
      "['english', 'physics', 'history', 'art', 'theater', 'calculus']\n",
      "I am excited to learn programming\n"
     ]
    }
   ],
   "source": [
    "# The pop() method allows you to remove the last item in a list and store it in a variable\n",
    "last_class = classes.pop()\n",
    "print(last_class)\n",
    "print(classes)\n",
    "print(f\"I am excited to learn {last_class}\")"
   ]
  },
  {
   "cell_type": "code",
   "execution_count": 9,
   "id": "4947c4b7",
   "metadata": {},
   "outputs": [
    {
     "name": "stdout",
     "output_type": "stream",
     "text": [
      "I had to drop art because I had too many classes\n"
     ]
    }
   ],
   "source": [
    "# Pop any item from a list\n",
    "fourth = classes.pop(3)\n",
    "print(f\"I had to drop {fourth} because I had too many classes\")"
   ]
  },
  {
   "cell_type": "code",
   "execution_count": 10,
   "id": "1228fbe4",
   "metadata": {},
   "outputs": [
    {
     "name": "stdout",
     "output_type": "stream",
     "text": [
      "['english', 'physics', 'history', 'theater', 'calculus']\n",
      "['english', 'physics', 'history', 'calculus']\n"
     ]
    }
   ],
   "source": [
    "# Remove an item from the list by its name\n",
    "print(classes)\n",
    "classes.remove('theater') # the remove() method only drops the first occurence of a value from the list\n",
    "print(classes)"
   ]
  },
  {
   "cell_type": "code",
   "execution_count": 11,
   "id": "90e87301",
   "metadata": {},
   "outputs": [
    {
     "name": "stdout",
     "output_type": "stream",
     "text": [
      "['english', 'physics', 'history', 'calculus']\n",
      "['calculus', 'english', 'history', 'physics']\n"
     ]
    }
   ],
   "source": [
    "# Sort the items in a list alphabetically\n",
    "print(classes)\n",
    "classes.sort()\n",
    "print(classes)"
   ]
  },
  {
   "cell_type": "code",
   "execution_count": 12,
   "id": "c8fb679f",
   "metadata": {},
   "outputs": [
    {
     "name": "stdout",
     "output_type": "stream",
     "text": [
      "['calculus', 'english', 'history', 'physics']\n",
      "['physics', 'history', 'english', 'calculus']\n"
     ]
    }
   ],
   "source": [
    "# Sort the items in a list in reverse alphabetical order\n",
    "print(classes)\n",
    "classes.sort(reverse = True)\n",
    "print(classes)"
   ]
  },
  {
   "cell_type": "code",
   "execution_count": 13,
   "id": "04c038f9",
   "metadata": {},
   "outputs": [
    {
     "name": "stdout",
     "output_type": "stream",
     "text": [
      "Here is the original list:\n",
      "['physics', 'history', 'english', 'calculus']\n",
      "\n",
      "Here is the sorted list:\n",
      "['calculus', 'english', 'history', 'physics']\n",
      "\n",
      "Here is the original list again:\n",
      "['physics', 'history', 'english', 'calculus']\n"
     ]
    }
   ],
   "source": [
    "# The sort() method changes the order of the list permanently\n",
    "# The sorted() method changes the order of the list temporarily\n",
    "print(\"Here is the original list:\")\n",
    "print(classes)\n",
    "print()\n",
    "print(\"Here is the sorted list:\")\n",
    "print(sorted(classes))\n",
    "print()\n",
    "print(\"Here is the original list again:\")\n",
    "print(classes)"
   ]
  },
  {
   "cell_type": "code",
   "execution_count": 14,
   "id": "9c2d4bb2",
   "metadata": {},
   "outputs": [
    {
     "name": "stdout",
     "output_type": "stream",
     "text": [
      "['grapes', 'apples', 'pears', 'bananas']\n",
      "['bananas', 'pears', 'apples', 'grapes']\n"
     ]
    }
   ],
   "source": [
    "# Reverse the order of a list\n",
    "my_list = ['grapes', 'apples', 'pears', 'bananas']\n",
    "print(my_list)\n",
    "my_list.reverse() \n",
    "print(my_list)"
   ]
  },
  {
   "cell_type": "code",
   "execution_count": 15,
   "id": "281a991b",
   "metadata": {},
   "outputs": [
    {
     "name": "stdout",
     "output_type": "stream",
     "text": [
      "4\n"
     ]
    }
   ],
   "source": [
    "# Find the length of a list\n",
    "print(len(my_list)) # Python counts the items in a list starting with one"
   ]
  },
  {
   "cell_type": "markdown",
   "id": "58753ea4",
   "metadata": {},
   "source": [
    "### Looping"
   ]
  },
  {
   "cell_type": "code",
   "execution_count": 16,
   "id": "3a5d9625",
   "metadata": {},
   "outputs": [
    {
     "name": "stdout",
     "output_type": "stream",
     "text": [
      "english\n",
      "physics\n",
      "history\n",
      "art\n",
      "calculus\n",
      "programming\n"
     ]
    }
   ],
   "source": [
    "# Loops allow you to take the same action (or actions) for each item in the list\n",
    "classes = ['english', 'physics', 'history', 'art', 'calculus', 'programming']\n",
    "\n",
    "# Here is how to loop through the 'classes' list\n",
    "for item in classes: # 'item' is a temporary variable that you can give any name you'd like that isn't reserved\n",
    "    print(item) # prints each item in the classes list"
   ]
  },
  {
   "cell_type": "code",
   "execution_count": 20,
   "id": "b355d41a",
   "metadata": {},
   "outputs": [
    {
     "name": "stdout",
     "output_type": "stream",
     "text": [
      "ENGLISH is awesome!\n",
      "PHYSICS is awesome!\n",
      "HISTORY is awesome!\n",
      "ART is awesome!\n",
      "CALCULUS is awesome!\n",
      "PROGRAMMING is awesome!\n",
      "\n",
      "That is the end of the loop\n"
     ]
    }
   ],
   "source": [
    "# You can do just about anything with each item in the loop\n",
    "# You can also write as many lines of code as you'd like inside the loop\n",
    "# You can also write additional code after your loop\n",
    "\n",
    "for my_class in classes:\n",
    "    print(f\"{my_class.upper()} is awesome!\")\n",
    "\n",
    "# the '\\n' tells the computer to skip a line before printing the next statement\n",
    "# the '\\' is called an escape character and has several other uses in programming\n",
    "print(\"\\nThat is the end of the loop\")"
   ]
  },
  {
   "cell_type": "code",
   "execution_count": 21,
   "id": "30d02394",
   "metadata": {},
   "outputs": [
    {
     "name": "stdout",
     "output_type": "stream",
     "text": [
      "1\n",
      "2\n",
      "3\n",
      "4\n"
     ]
    }
   ],
   "source": [
    "# Python's range() function makes it easy to generate a series of numbers\n",
    "\n",
    "for value in range(1,5): # doesn't include the last number '5'\n",
    "    print(value)"
   ]
  },
  {
   "cell_type": "code",
   "execution_count": 22,
   "id": "97dc791f",
   "metadata": {},
   "outputs": [
    {
     "name": "stdout",
     "output_type": "stream",
     "text": [
      "1\n",
      "2\n",
      "3\n",
      "4\n",
      "5\n"
     ]
    }
   ],
   "source": [
    "for value in range(1,6):\n",
    "    print(value)"
   ]
  },
  {
   "cell_type": "code",
   "execution_count": 24,
   "id": "72ec0940",
   "metadata": {},
   "outputs": [
    {
     "name": "stdout",
     "output_type": "stream",
     "text": [
      "[1, 2, 3, 4, 5]\n"
     ]
    }
   ],
   "source": [
    "# when you wrap list() around a range() it produces a list of numbers\n",
    "\n",
    "numbers = list(range(1,6))\n",
    "print(numbers)"
   ]
  },
  {
   "cell_type": "code",
   "execution_count": 25,
   "id": "f4c45b0d",
   "metadata": {},
   "outputs": [
    {
     "name": "stdout",
     "output_type": "stream",
     "text": [
      "[2, 4, 6, 8, 10]\n"
     ]
    }
   ],
   "source": [
    "# we can use range() to tell Python to skip numbers\n",
    "\n",
    "even_numbers = list(range(2, 11, 2))\n",
    "print (even_numbers)"
   ]
  },
  {
   "cell_type": "code",
   "execution_count": 26,
   "id": "e354e9a1",
   "metadata": {},
   "outputs": [
    {
     "name": "stdout",
     "output_type": "stream",
     "text": [
      "[1, 4, 9, 16, 25, 36, 49, 64, 81, 100]\n"
     ]
    }
   ],
   "source": [
    "# here is a simple function to square numbers using what you have learned so far\n",
    "\n",
    "squares = []\n",
    "for value in range(1,11): # Which numbers will this call generate?\n",
    "    square = value ** 2\n",
    "    squares.append(square)\n",
    "    \n",
    "print(squares)"
   ]
  },
  {
   "cell_type": "code",
   "execution_count": 27,
   "id": "8dd9d93e",
   "metadata": {},
   "outputs": [
    {
     "name": "stdout",
     "output_type": "stream",
     "text": [
      "[1, 4, 9, 16, 25, 36, 49, 64, 81, 100]\n"
     ]
    }
   ],
   "source": [
    "# can we shorten the previous code?\n",
    "\n",
    "squares = []\n",
    "for value in range(1,11):\n",
    "    squares.append(value**2)\n",
    "print(squares)"
   ]
  },
  {
   "cell_type": "markdown",
   "id": "c7a60749",
   "metadata": {},
   "source": [
    "### Simple Statistics Using Lists"
   ]
  },
  {
   "cell_type": "code",
   "execution_count": 28,
   "id": "6e6e0e2b",
   "metadata": {},
   "outputs": [
    {
     "name": "stdout",
     "output_type": "stream",
     "text": [
      "1\n",
      "100\n",
      "385\n"
     ]
    }
   ],
   "source": [
    "# Find the minimum number in a list\n",
    "print(min(squares))\n",
    "\n",
    "# Find the maximum number in a list\n",
    "print(max(squares))\n",
    "\n",
    "# Find the sum of all numbers in a list\n",
    "print(sum(squares))"
   ]
  },
  {
   "cell_type": "markdown",
   "id": "cbfd87cf",
   "metadata": {},
   "source": [
    "### List Comprehensions"
   ]
  },
  {
   "cell_type": "code",
   "execution_count": 30,
   "id": "17f5b912",
   "metadata": {},
   "outputs": [
    {
     "name": "stdout",
     "output_type": "stream",
     "text": [
      "[1, 4, 9, 16, 25, 36, 49, 64, 81, 100]\n"
     ]
    }
   ],
   "source": [
    "# List comprehensions all you to generate the same list in just one line of code\n",
    "squares = [value ** 2 for value in range(1,11)]\n",
    "print(squares)"
   ]
  },
  {
   "cell_type": "markdown",
   "id": "4796727f",
   "metadata": {},
   "source": [
    "### Slicing a List"
   ]
  },
  {
   "cell_type": "code",
   "execution_count": 33,
   "id": "878a8306",
   "metadata": {},
   "outputs": [
    {
     "name": "stdout",
     "output_type": "stream",
     "text": [
      "['english', 'physics', 'history']\n"
     ]
    }
   ],
   "source": [
    "classes = ['english', 'physics', 'history', 'art', 'calculus', 'programming']\n",
    "print(classes[0:3])"
   ]
  },
  {
   "cell_type": "code",
   "execution_count": 34,
   "id": "ded58144",
   "metadata": {},
   "outputs": [
    {
     "name": "stdout",
     "output_type": "stream",
     "text": [
      "['physics', 'history', 'art']\n"
     ]
    }
   ],
   "source": [
    "print(classes[1:4])"
   ]
  },
  {
   "cell_type": "code",
   "execution_count": 35,
   "id": "6dd81a27",
   "metadata": {},
   "outputs": [
    {
     "name": "stdout",
     "output_type": "stream",
     "text": [
      "['english', 'physics', 'history', 'art']\n"
     ]
    }
   ],
   "source": [
    "print(classes[:4])"
   ]
  },
  {
   "cell_type": "code",
   "execution_count": 36,
   "id": "f99b430b",
   "metadata": {},
   "outputs": [
    {
     "name": "stdout",
     "output_type": "stream",
     "text": [
      "['history', 'art', 'calculus', 'programming']\n"
     ]
    }
   ],
   "source": [
    "print(classes[2:])"
   ]
  },
  {
   "cell_type": "code",
   "execution_count": 37,
   "id": "5a668055",
   "metadata": {},
   "outputs": [
    {
     "name": "stdout",
     "output_type": "stream",
     "text": [
      "['art', 'calculus', 'programming']\n"
     ]
    }
   ],
   "source": [
    "print(classes[-3:])"
   ]
  },
  {
   "cell_type": "code",
   "execution_count": 38,
   "id": "f228a007",
   "metadata": {},
   "outputs": [
    {
     "name": "stdout",
     "output_type": "stream",
     "text": [
      "art\n",
      "calculus\n",
      "programming\n"
     ]
    }
   ],
   "source": [
    "# we can also loop through slices of a list\n",
    "for my_class in classes[-3:]:\n",
    "    print(my_class)"
   ]
  },
  {
   "cell_type": "markdown",
   "id": "6a21970c",
   "metadata": {},
   "source": [
    "### Copying a List"
   ]
  },
  {
   "cell_type": "code",
   "execution_count": 39,
   "id": "21ff3f3b",
   "metadata": {},
   "outputs": [
    {
     "name": "stdout",
     "output_type": "stream",
     "text": [
      "['english', 'physics', 'history', 'art', 'calculus', 'programming']\n"
     ]
    }
   ],
   "source": [
    "# To copy a list, make a slice that includes the entire original list\n",
    "classes_copy = classes[:]\n",
    "print(classes_copy)"
   ]
  },
  {
   "cell_type": "code",
   "execution_count": 42,
   "id": "6da64231",
   "metadata": {},
   "outputs": [
    {
     "name": "stdout",
     "output_type": "stream",
     "text": [
      "True\n",
      "False\n"
     ]
    }
   ],
   "source": [
    "# can you prove that these two lists are separate?\n",
    "print(classes_copy == classes)\n",
    "classes.append('shop')\n",
    "classes_copy.append('tennis')\n",
    "print(classes_copy == classes)"
   ]
  },
  {
   "cell_type": "code",
   "execution_count": 43,
   "id": "34a3c2f7",
   "metadata": {},
   "outputs": [
    {
     "name": "stdout",
     "output_type": "stream",
     "text": [
      "Here is the classes list: ['english', 'physics', 'history', 'art', 'calculus', 'programming', 'shop']\n",
      "Here is the classes_copy list: ['english', 'physics', 'history', 'art', 'calculus', 'programming', 'tennis']\n"
     ]
    }
   ],
   "source": [
    "print(f\"Here is the classes list: {classes}\")\n",
    "print(f\"Here is the classes_copy list: {classes_copy}\")"
   ]
  },
  {
   "cell_type": "code",
   "execution_count": 44,
   "id": "50369bc6",
   "metadata": {},
   "outputs": [],
   "source": [
    "# If we had set classes = classes_copy, we would not produce two separate lists."
   ]
  },
  {
   "cell_type": "markdown",
   "id": "f09a7544",
   "metadata": {},
   "source": [
    "## Lab Assignment"
   ]
  },
  {
   "cell_type": "markdown",
   "id": "6bf104fc",
   "metadata": {},
   "source": [
    "1) Create a list of the names of your teachers. Loop through the list and print the names in title case."
   ]
  },
  {
   "cell_type": "code",
   "execution_count": null,
   "id": "5444a78e",
   "metadata": {},
   "outputs": [],
   "source": []
  },
  {
   "cell_type": "markdown",
   "id": "66475f69",
   "metadata": {},
   "source": [
    "2) Create two lists. One list will have the names for three of your favorite musicians. The other list will have the names for your favorite song that they produced. Loop through the artists and songs lists, and print the name of the artist in title case followed by the name of the song in title case.\n",
    "\n",
    "Example: \"Michael Jackson: Thriller\"\n",
    "\n",
    "Hint: You will need to use nested for loops."
   ]
  },
  {
   "cell_type": "code",
   "execution_count": null,
   "id": "f17a01a8",
   "metadata": {},
   "outputs": [],
   "source": []
  }
 ],
 "metadata": {
  "kernelspec": {
   "display_name": "Python 3",
   "language": "python",
   "name": "python3"
  },
  "language_info": {
   "codemirror_mode": {
    "name": "ipython",
    "version": 3
   },
   "file_extension": ".py",
   "mimetype": "text/x-python",
   "name": "python",
   "nbconvert_exporter": "python",
   "pygments_lexer": "ipython3",
   "version": "3.8.8"
  }
 },
 "nbformat": 4,
 "nbformat_minor": 5
}
